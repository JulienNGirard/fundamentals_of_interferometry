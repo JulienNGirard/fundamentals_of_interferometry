{
 "cells": [
  {
   "cell_type": "markdown",
   "metadata": {},
   "source": [
    "***\n",
    "\n",
    "* [Outline](../0_Introduction/0_introduction.ipynb)\n",
    "* [Glossary](../0_Introduction/1_glossary.ipynb)\n",
    "* [2. Mathematical Groundwork](#)  \n",
    "    * Next: [2.1 Complex numbers](2_1_complex_numbers.ipynb)\n",
    "\n",
    "***"
   ]
  },
  {
   "cell_type": "markdown",
   "metadata": {},
   "source": [
    "# Chapter 2: Mathematical Groundwork<a id='math:sec:intro'></a>"
   ]
  },
  {
   "cell_type": "markdown",
   "metadata": {},
   "source": [
    "Radio interferometry requires a firm mathematical background. Luckily, this background is rather limited and well understandable if we assume some background in calculus and algebra. In this chapter, we give an overview of the mathematical definitions and formulae used throughout this book. Much of the approach taken here is based on the one assumed by Ulrich Klein und J&uuml;rgen Kerp in their Introductory Radio astronomy techniques script at AIfA (Univ. Bonn).\n",
    "\n",
    "It should be pointed out that learning the mathematics presented here is not in vain, even when interferometry will not turn up again in the reader's career. In any description of measurements and especially digitization all the groundwork presented here will reoccur."
   ]
  },
  {
   "cell_type": "markdown",
   "metadata": {},
   "source": [
    "#### Chapter Outline"
   ]
  },
  {
   "cell_type": "markdown",
   "metadata": {},
   "source": [
    "1. [Complex Numbers](2_1_complex_numbers.ipynb)\n",
    "    1. [The field of complex numbers](2_1_complex_numbers.ipynb#math:sec:the_field_of_complex_numbers)\n",
    "    2. [Euler's formula](2_1_complex_numbers.ipynb#math:sec:eulers_formula)\n",
    "    3. [Periodic functions and complex numbers](2_2_special_functions.ipynb#math:sec:periodic_functions_and_complex_numbers)\n",
    "2. [Important functions](2_2_important_functions.ipynb)\n",
    "    1. [Gaussian function](2_2_important_functions.ipynb#math:sec:gaussian_function)\n",
    "    2. [Sinc function](2_2_important_functions.ipynb#math:sec:sync_function)\n",
    "    3. [Heaviside function](2_2_important_functions.ipynb#math:sec:dirac_delta_function)\n",
    "    4. [Dirac delta function](2_2_important_functions.ipynb#math:sec:dirac_delta_function)\n",
    "    5. [Shah function](2_2_important_functions.ipynb#math:sec:shah_function)\n",
    "    6. [Boxcar and rectangle function](2_2_important_functions.ipynb#math:sec:boxcar_and_rectangle_function)\n",
    "3. [Fourier Series](2_3_fourier_series.ipynb)\n",
    "4. [The Fourier Transform](2_4_the_fourier_transform.ipynb)\n",
    "    1. [Definition of the Fourier transform](2_4_the_fourier_transform.ipynb#math:sec:definition_of_the_fourier_transform)\n",
    "    2. [Fourier transform of the Gaussian](2_4_the_fourier_transform.ipynb#math:sec:fourier_transform_of_the_gaussian)\n",
    "    3. [Fourier transform of Dirac's delta function](2_4_the_fourier_transform.ipynb#math:sec:fourier_transform_of_diracs_delta_function)\n",
    "    4. [Fourier transform of the comb function](2_4_the_fourier_transform.ipynb#math:sec:fourier_transform_of_the_comb_function)\n",
    "    5. [Fourier transform of the rectangle function](2_4_the_fourier_transform.ipynb#math:sec:fourier_transform_of_the_rectangle_and_the_sinc_function)\n",
    "    6. [Fourier transforms of real_valued_and_hermetian_functions](2_4_the_fourier_transform.ipynb#math:sec:fourier_transforms_of_real_valued_and_hermetian_functions)\n",
    "    7. [Fourier transforms of complex conjugate functions](2_4_the_fourier_transform.ipynb#math:sec:fourier_transforms_of_complex_conjugate_functions)\n",
    "5. [Convolution](2_5_convolution.ipynb)\n",
    "    1. [Definition of the convolution](2_5_convolution.ipynb#math:sec:definition_of_the_convolution)\n",
    "    2. [Properties of the convolution](2_5_convolution.ipynb#math:sec:properties_of_the_convolution)\n",
    "    3. [Convolution examples](2_5_convolution.ipynb#math:sec:convolution_examples)\n",
    "6. [Cross-correlation and Auto-correlation](2_6_cross_correlation_and_auto_correlation.ipynb)\n",
    "    1. [Cross-correlation](2_6_cross_correlation_and_auto_correlation.ipynb#math:sec:cross_correlation)\n",
    "    2. [Auto-correlation](2_6_cross_correlation_and_auto_correlation.ipynb#math:sec:auto_correlation)\n",
    "7. [Fourier Theorems](2_7_fourier_theorems.ipynb)\n",
    "    1. [Linearity of the Fourier transform](2_7_fourier_theorems.ipynb#math:sec:linearity_of_the_fourier_transform)\n",
    "    2. [Similarity theorem](2_7_fourier_theorems.ipynb#math:sec:similarity_theorem)\n",
    "    3. [Shift theorem](2_7_fourier_theorems.ipynb#math:sec:shift_theorem)\n",
    "    4. [Convolution theorem](2_7_fourier_theorems.ipynb#math:sec:convolution_theorem)\n",
    "    5. [Modulation theorem](2_7_fourier_theorems.ipynb#math:sec:modulation_theorem)\n",
    "    6. [Power theorem](2_7_fourier_theorems.ipynb#math:sec:power_theorem)\n",
    "    7. [Rayleigh theorem](2_7_fourier_theorems.ipynb#math:sec:rayleigh_theorem)\n",
    "    8. [Cross-correlation theorem](2_7_fourier_theorems.ipynb#math:sec:cross_correlation_theorem)\n",
    "    9. [Auto-correlation theorem (Wiener-Khinchin theorem)](2_7_fourier_theorems.ipynb#math:sec:auto_correlation_theorem_wiener_khinchin_theorem)\n",
    "    10. [Derivative theorem](2_7_fourier_theorems.ipynb#math:sec:derivative_theorem)\n",
    "8. [The Discrete Fourier transform](2_8_the_discrete_fourier_transform.ipynb)\n",
    "    1. [The Discrete Fourier transform: definition](2_8_the_discrete_fourier_transform.ipynb#math:sec:the_discrete_fourier_transform_definition)\n",
    "    2. [The Discrete convolution: definition and discrete convolution theorem](2_8_the_discrete_fourier_transform.ipynb#math:sec:the_discrete_convolution_definition_and_discrete_convolution_theorem)\n",
    "    3. [The Discrete Fourier transform as coefficients for the Fourier transform of a sampled function](2_8_the_discrete_fourier_transform.ipynb#math:sec:the_discrete_fourier_transform_as_coefficients_for)\n",
    "    4. [Fast Fourier transforms](2_8_the_discrete_fourier_transform.ipynb#math:sec:fast_fourier_tranforms)\n",
    "9. [Sampling theory](2_9_sampling_theory.ipynb) \n",
    "    1. [Nyquist's sampling theorem](2_9_sampling_theory.ipynb#math:sec:nyquists_sampling_theorem)\n",
    "    2. [Limited sampling](2_9_sampling_theory.ipynb#math:sec:limited_sampling)\n",
    "    3. [Examples for aliasing and limited sampling](2_9_sampling_theory.ipynb#math:sec:examples_for_aliasing_and_limited_sampling)\n",
    "10. [Linear Algrebra](2_10_linear_algebra.ipynb)\n",
    "11. [Least-squares Minimization](2_11_least_squares.ipynb)\n",
    "12. [Solid Angle](2_12_solid_angle.ipynb)\n",
    "13. [Spherical Trigonometry](2_13_spherical_trigonometry.ipynb)\n",
    "14. [Further Reading and References](2_x_further_reading_and_references.ipynb)"
   ]
  },
  {
   "cell_type": "markdown",
   "metadata": {},
   "source": [
    "#### Chapter Editors\n",
    "\n",
    "* Landman Bester\n",
    "* Jonathan Kenyon\n",
    "* UA Mbou Sob\n",
    "\n",
    "#### Chapter Contributors\n",
    "\n",
    "* Landman Bester (2.8, 2.9)\n",
    "* Trienko Grobler (2.10, 2.12, 2.13)\n",
    "* Gyula Jozsa (2.1, 2.2, 2.3, 2.4, 2.5, 2.6, 2.7, 2.8, 2.9)\n",
    "* Jonathan Kenyon (2.11)"
   ]
  },
  {
   "cell_type": "markdown",
   "metadata": {},
   "source": [
    "***\n",
    "\n",
    "Next: [2.1 Complex Numbers](2_1_complex_numbers.ipynb)"
   ]
  },
  {
   "cell_type": "markdown",
   "metadata": {},
   "source": [
    "<div class=warn><b>Future Additions:</b></div>\n",
    "\n",
    "* add section on orthogonal functions and basis functions (perhaps in one of the Fourier sections?)\n",
    "* add section on log space identities and decibel definitions"
   ]
  }
 ],
 "metadata": {
  "kernelspec": {
   "display_name": "Python 2",
   "language": "python",
   "name": "python2"
  },
  "language_info": {
   "codemirror_mode": {
    "name": "ipython",
    "version": 2
   },
   "file_extension": ".py",
   "mimetype": "text/x-python",
   "name": "python",
   "nbconvert_exporter": "python",
   "pygments_lexer": "ipython2",
   "version": "2.7.6"
  }
 },
 "nbformat": 4,
 "nbformat_minor": 0
}
