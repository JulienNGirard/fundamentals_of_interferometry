{
 "cells": [
  {
   "cell_type": "markdown",
   "metadata": {
    "collapsed": true
   },
   "source": [
    "***\n",
    "<a id='beginning'></a> <!--\\label{beginning}-->\n",
    "\n",
    "* [Outline](../0_Introduction/0_introduction.ipynb)\n",
    "* [Glossary](../0_Introduction/1_glossary.ipynb)\n",
    "* [4. The Visibility space](4_0_introduction.ipynb)\n",
    "    * Previous: [4.5 The Fourier Approximation & the van Cittert-Zernike theorem](4_5_The_Fourier_Approximation_VanCittert-Zernike_Theorem.ipynb)\n",
    "    * Next Chapter: [5. Imaging](../5_Imaging/5_0_introduction.ipynb)\n",
    "\n",
    "***"
   ]
  },
  {
   "cell_type": "markdown",
   "metadata": {},
   "source": [
    "## 4.x Further Reading and References <a id='visib:sec:refs'></a>"
   ]
  },
  {
   "cell_type": "markdown",
   "metadata": {},
   "source": [
    "* (TCP) Taylor, Carilli and Perley, Synthesis Imaging in Radio Astronomy II (1999) [<cite data-cite='1999ASPC..180.....T'>&#10548;</cite> ](http://adsabs.harvard.edu/abs/1999ASPC..180.....T):\n",
    "    * Lecture 1 *Coherence in Radio Astronomy*, p.1\n",
    "    * Lecture 2 *Fundamentals of Radio Interferometry*, p.11\n",
    "    \n",
    "    \n",
    "* (TMS) Thompson, Moran and Swenson, Interferometry and Synthesis in Radio Astronomy 2nd Ed., Wiley, (2001)\n",
    "[<cite data-cite='2001isra.book.....T'> &#10548;</cite>](http://adsabs.harvard.edu/abs/2001isra.book.....T):\n",
    "\n",
    "    * Chapter 1.3 *Development of Radio interferometry*, p. 12\n",
    "    * Chapter 12 *Interferometer Techniques for Astrometry and Geodesy*, p. 467\n",
    "    * Chapter 14 *Van Cittert-Zernike Theorem, Spatial Coherence, and Scaterring*, p. 594\n",
    "\n",
    "\n",
    "* (K) Kraus R. D., Radioastronomy, Cygnus-Quasar, (1966)     [<cite data-cite='1966raas.book.....K'> &#10548;</cite>](http://adsabs.harvard.edu/abs/1966raas.book.....K):\n",
    "    * Chapters 6-10 to 6-35"
    "1. [<cite data-cite='taylor1999synthesis'>Synthesis Imaging in Radio Astronomy II (Lecture 1, 2) </cite> &#10548;](http://adsabs.harvard.edu/abs/1999sira.conf.....T) : general introduction.\n",
    "2. [<cite data-cite='thompson2008interferometry'>Interferometry and Synthesis in Radio Astronomy (Chapter 1.3, 12, 14) </cite> &#10548;](http://onlinelibrary.wiley.com/book/10.1002/9783527617845) : a complimentary chapter to Lecture 1 and 2 of *Synthesis Imaging in Radio Astronomy II*.\n",
    "3. [<cite data-cite='1966raas.book.....K'>Radio Astronomy (Chapters 6-10) &#10548;</cite>](http://adsabs.harvard.edu/abs/1966raas.book.....K): general overview of radio astronomy."
   ]
  },
  {
   "cell_type": "markdown",
   "metadata": {
    "collapsed": true
   },
   "source": [
    "***\n",
    "\n",
    "* Next: [5. Imaging](../5_Imaging/5_0_introduction.ipynb)"
   ]
  }
 ],
 "metadata": {
  "kernelspec": {
   "display_name": "Python 2",
   "language": "python",
   "name": "python2"
  },
  "language_info": {
   "codemirror_mode": {
    "name": "ipython",
    "version": 2
   },
   "file_extension": ".py",
   "mimetype": "text/x-python",
   "name": "python",
   "nbconvert_exporter": "python",
   "pygments_lexer": "ipython2",
   "version": "2.7.6"
  }
 },
 "nbformat": 4,
 "nbformat_minor": 0
}
