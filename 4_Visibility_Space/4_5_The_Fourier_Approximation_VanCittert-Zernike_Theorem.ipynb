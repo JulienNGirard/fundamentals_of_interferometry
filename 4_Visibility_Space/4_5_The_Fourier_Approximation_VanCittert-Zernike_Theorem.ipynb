{
 "cells": [
  {
   "cell_type": "markdown",
   "metadata": {
    "collapsed": true
   },
   "source": [
    "***\n",
    "\n",
    "* [Outline](../0_Introduction/0_introduction.ipynb)\n",
    "* [Glossary](../0_Introduction/1_glossary.ipynb)\n",
    "* [4. The Visibility space](4_0_introduction.ipynb)\n",
    "    * Previous: [4.4 UV Coverage](4_4_UV_Coverage.ipynb)\n",
    "    * Next: [4.x Further Reading And References](4_x_further_reading_and_references.ipynb)\n",
    "\n",
    "***"
   ]
  },
  {
   "cell_type": "markdown",
   "metadata": {},
   "source": [
    "Import standard modules:"
   ]
  },
  {
   "cell_type": "code",
   "execution_count": null,
   "metadata": {
    "collapsed": false
   },
   "outputs": [],
   "source": [
    "import numpy as np\n",
    "import matplotlib.pyplot as plt\n",
    "%matplotlib inline\n",
    "from IPython.display import HTML \n",
    "HTML('../style/course.css') #apply general CSS"
   ]
  },
  {
   "cell_type": "code",
   "execution_count": null,
   "metadata": {
    "collapsed": false
   },
   "outputs": [],
   "source": [
    "HTML('../style/code_toggle.html')"
   ]
  },
  {
   "cell_type": "markdown",
   "metadata": {},
   "source": [
    "***"
   ]
  },
  {
   "cell_type": "markdown",
   "metadata": {},
   "source": [
    "## 4.5 The Fourier Approximation & van Cittert-Zernike Theorem"
   ]
  },
  {
   "cell_type": "markdown",
   "metadata": {},
   "source": [
    "An interferometer is sampling the sky, but the visibility function associated with the sky. Assuming no distortion of the measurements we still need to simplify the measurement frame to enable imaging by aperture synthesis. The Van Cittert-Zernike theorem will enable us to use simple tools, such a the Fourier Transform to link the visibility function to the sky.\n",
    "In $\\S$ 4.5.1, we will start by taking some approximation which will simplifies the Eq. 4.3.2 in [$\\S$ 4.3 &#10142;](4_3_The_Visibility_Function.ipynb)."
   ]
  },
  {
   "cell_type": "markdown",
   "metadata": {},
   "source": [
    "<a id=\"sec:451\"></a>\n",
    "### 4.5.1 Fourier approximations\n",
    "Before stating the theorem, we need to take several approximations to enable its formulation. Sections $\\S$ 4.5.1.A to $\\S$ 4.5.1.G cover the various apprixmations from the remote location of the source to the local conditions near the observer.\n",
    "      "
   ]
  },
  {
   "cell_type": "markdown",
   "metadata": {},
   "source": [
    "##### 4.5.1.A Mutual incoherence of the source\n",
    "In this approximation, we assume that the different part of the sky are statistically independent to each other, meaning that the mutual coherency between two direction is 0. The sky can be described as a collection of point sources. Therefore, the visibility function is linear regarding the directions in the sky as the correlation between $\\mathbf{s}_i$ and $\\mathbf{s}_j$ is non zero only when $i=j$.\n"
   ]
  },
  {
   "cell_type": "markdown",
   "metadata": {},
   "source": [
    "#### 4.5.1.B Far-field approximation\n",
    "\n",
    "In the ideal case, we are observing sources that lie on the celestial sphere at an infinite distance. The antenna patterns are the Far-Field pattern.\n",
    "The expression of the visibility in a spherical reference is therefore independent of $r$, the distance from the observer to the source. The distance $R >> \\frac{|\\mathbf{b}_\\text{max}|^2}{\\lambda}$ so that the dependence of Eq. xx are simplified. All extended sources are confined to the celestial sphere and are seen through their 2D projection on it."
   ]
  },
  {
   "cell_type": "markdown",
   "metadata": {},
   "source": [
    "#### 4.5.1.C Homogeneity of the propagation medium\n",
    "In the simple case of classical radio sources, we assume no propagation effects on the signal (absorption, refraction, distortion). The latter will be invalid when observing:\n",
    "\n",
    "- a polarized signal through a magnetized medium (e.g. the Faraday rotation of polarized radio emission through the magnetized IGM/ISM)\n",
    "\n",
    "- a pulsar through the IGM medium which cause signal distortions (spectral dispersion and temporal broadening of the pulses)"
   ]
  },
  {
   "cell_type": "markdown",
   "metadata": {},
   "source": [
    "#### 4.5.1.D Small-field approximation\n",
    "Because real-life antennas are not isotropic, they are sensitive to a limited portion of the sky defined by their *Field of View* (FoV). Close to the phase center, the celestial sphere can be approximated by its tangent plane on which the source falling in the FoV will contribute to the measured visibilities.\n",
    "    \n",
    "Assuming that the observing region of the sky is small, we will consider that:\n",
    "- the antenna gain is considered constant over the FoV: $A(l,m) \\approx cte$\n",
    "- the sky is observed as a 2D projection onto the (l,m) plane: $(\\alpha_0,\\delta_0)\\leftrightarrow(l,m)$\n",
    "- the extended sources are small relative to the FoV: $\\Delta\\theta_\\text{source} << \\Delta\\theta_\\text{FoV}$\n",
    "- $w$ is small and $n$ is close to unity (see $\\S$ 4.5.1.E)\n"
   ]
  },
  {
   "cell_type": "markdown",
   "metadata": {},
   "source": [
    "#### 4.5.1.E Coplanar baselines\n",
    "In Eq. 4.3.2 in [$\\S$ 4.3 &#10142;](4_3_The_Visibility_Function.ipynb), the exponent in factor of the Intensity distribution in the expression of the visibility function is $K(l,m)$ such as\n",
    "$$K(l,m)=\\exp \\left[ {-\\imath 2\\pi (ul+vm+w(\\sqrt{1-l^2-m^2}-1)) }\\right]$$\n",
    "\n",
    "For a tracking interferometer (compensating for the phase delay of reception of the signal at the different antennas), in the regime of small-field approximation, we are receiving incoherent emission from the ($l$,$m$) plane close to the phase center at ($l=0$,$m=0$). \n",
    "\n",
    "if ($l$,$m$)<<1 then $w(\\sqrt{1-l^2-m^2}-1) \\rightarrow 0$. \n",
    "\n",
    "In that case, the $w$-term can be ignored and $K(l,m)$ then reduces to \n",
    "$$K(l,m)=\\exp \\left[ {-\\imath 2\\pi (ul+vm) }\\right]$$\n",
    "\n",
    "\n"
   ]
  },
  {
   "cell_type": "markdown",
   "metadata": {},
   "source": [
    "<div class=advice>\n",
    "    <b>Note:</b> $\\S$ 4.5.1.D and $\\S$ 4.5.1.E will be addressed for thoroughly in [$\\S$ 5.5 &#10142;](../5_Imaging/5_5_widefield_effect.ipynb).\n",
    "    </div>"
   ]
  },
  {
   "cell_type": "markdown",
   "metadata": {},
   "source": [
    "#### 4.5.1.F Narrowband approximation\n",
    "\n",
    "The correlator is operated in a narrow-bandwith $\\Delta \\nu$ (condition). The bandwidth will modulate the width of the fringe damping factor taking a form of a sinc function. By assuming a narrow-band approximation, we assume that the width at which the fringe contrast is dampened is infinitely large.\n",
    "\n",
    "\n",
    "However, under normal circonstances over some bandwidth $\\Delta \\nu$, the effect of the bandwidth pattern can be limited on the interferometer response if we restrained the observed field within a region around the phase center where the spatial coherency is maintained:\n",
    "$$ \\frac{\\Delta\\nu}{\\nu} < \\frac{1}{l_\\text{max} u}, \\frac{1}{m_\\text{max} v} $$\n",
    "\n",
    "This is equivalent to broadlight interferometry where we see the fringes disappear few orders away from the fringe center."
   ]
  },
  {
   "cell_type": "markdown",
   "metadata": {},
   "source": [
    "#### 4.5.1.G Continuous sampling approximation\n",
    "We assume that he sampling of the complex visibility function is continuous, and therefore we do not suffer from sampling effect in the direct space (i.e. convolution with the FT of the sampling function). More details about the effect of the sampling function are given in the imaging chapter ([$\\S$ 5. &#10142;](../5_Imaging/5_0_introduction.ipynb)).\n",
    " "
   ]
  },
  {
   "cell_type": "markdown",
   "metadata": {},
   "source": [
    "<a id=\"sec:452\"></a>\n",
    "### 4.5.2 Van Cittert-Zernike Theorem\n",
    "\n",
    "Coming from optics, this theorem links the intensity distribution of the sky with the cross-correlation of the signals received by two receiver $R_1$ and $R_2$. Under the assumptions taken in $\\S$ 4.5.1, we can now formulate the theorem.\n",
    "\n",
    "#### 4.5.2.A Formulation\n",
    "Given a extended, monochromatic and incoherent intensity distribution $I_\\nu$ and the complex visibility measured by baseline $pq$, the theorem states the complex visibility function associated with baseline $pq$ is linked to the intensity distribution by a 2D Fourier Transform so that: \n",
    "\n",
    "$$\\boxed{\\boxed{V_{pq}(u,v,0)=\\int_{-\\infty}^\\infty\\int_{-\\infty}^\\infty{I_\\nu e^{-2\\imath\\pi (ul+vm)}dldm}}}$$"
   ]
  },
  {
   "cell_type": "markdown",
   "metadata": {},
   "source": [
    "#### 4.5.2.B Demonstration   \n",
    "Let's assume an monochromatic, extended incoherence intensity distribution as the sky.\n",
    "\n",
    "The mutual coherence between the signal measured at location of $R_1$ and $R_2$ over the time T, from a distance source is:\n",
    "$$\\Gamma_\\text{12}(u,v,\\tau)= \\lim_{T \\rightarrow \\infty} \\frac{1}{2T} \\int_{-T}^{T} E_1(t)E_{2}^{*}(t-\\tau) dt$$\n",
    "    \n",
    "where the electric fields can be expressed as:\n",
    "\n",
    "$$E_1(l,m,t)= E_{0}(l,m,t-\\frac{r_1}{c}) \\frac{e^{-2\\imath\\pi \\nu(t-\\frac{r_1}{c})}}{r_1}$$\n",
    "\n",
    "$$E_2(l,m,t)= E_{0}(l,m,t-\\frac{r_2}{c}) \\frac{e^{-2\\imath\\pi \\nu(t-\\frac{r_2}{c})}}{r_2}$$\n",
    "\n",
    "where $r_1$ and $r_2$ are the distance of each receiver from the source."
   ]
  },
  {
   "cell_type": "markdown",
   "metadata": {},
   "source": [
    "** Correlation of $\\mathbf{E_1}$ and $\\mathbf{E_2}$ **\n",
    "\n",
    "\\begin{eqnarray}\n",
    "\\langle E_1(l_i,m_i,t) E_2^*(l_j,m_j,t) \\rangle &=& \\langle E_{0} (l_i,m_i,t-\\frac{r_1}{c}) E_{0}(l_j,m_j,t-\\frac{r_2}{c}) \\rangle \\frac{e^{-2\\imath\\pi \\nu(t-\\frac{r_1}{c})} e^{+2\\imath\\pi \\nu(t-\\frac{r_2}{c})}}{r_1 r_2} \\\\\n",
    "&=& \\langle E_{0}(l_i,m_i,t') E_{0}(l_j,m_j,t'-\\frac{r_2-r_1}{c}) \\rangle \\frac{e^{2\\imath\\pi \\nu \\frac{r_1 - r_2}{c}}}{r_1 r_2}\\\\\n",
    "    &\\approx& \\langle E_{0}(l,m,t')E_{0}(l,m,t') \\rangle \\frac{e^{2\\imath\\pi \\nu \\frac{r_1 - r_2}{c}}}{r_1 r_2}\\\\ \n",
    "\\end{eqnarray}\n",
    "\n",
    "\n",
    "* We used the incoherent sky approximation to consider that $\\langle E_{0}(l_i,m_i,t) E_{0}(l_j,m_j,t-\\frac{r_2-r_1}{c}) \\rangle = 0$ for $i \\neq j$.\n",
    "\n",
    "* Assuming the far-field approximation and the small field approximation, we have $r_1 \\approx r_2 \\approx r$. Therefore $(r_1 - r_2)/c$ can be neglected.\n",
    "\n",
    "\n",
    "We can now write the expression of the mutual coherence $\\Gamma_{12}$:\n",
    "\n",
    "$r_1-r_2$ represents the OPD between the two receivers, and can be expressed as a function of ($u$, $v$) and ($l$, $m$):\n",
    "$$r_1-r_2= \\frac{c}{\\nu} (u_{12}l+v_{12}m)$$\n",
    "\n",
    "$$\\Gamma_{12}(u,v,\\tau=0)= \\int_{\\text{Source}} { \\frac{I_\\nu e^{2\\imath\\pi \\nu \\frac{(r_1-r_2)}{c}}}{r_1 r_2} }ds = \\int_{\\text{Source}}{\\frac{I_\\nu e^{2\\imath\\pi (u_{12}l+v_{12}m)}}{r^2}} ds$$\n",
    "\n",
    "As ($l$,$m$) are direction cosines, they can be linked to spherical coordinates. On the projected sphere, the surface element $ds$ can be expressed as: \n",
    "$$ds = r^2 \\; dl \\; dm$$\n",
    "\n",
    "The integrand is bounded to zero at the border of the Field of View (due to the antenna response and the limits of temporal coherency, restricting the FoV). Therefore, we can extend the bounds of the integral to infinite bounds without loosing generality.\n",
    "\n",
    "$\\Gamma_{12}$ becomes the complex visibility $V_\\nu$\n",
    "\n",
    "$$ \\Gamma_{12}(u,v,\\tau=0) = \\int_{-\\infty}^{\\infty}\\int_{-\\infty}^{\\infty} { I_\\nu(l,m) e^{-2\\imath\\pi(u_{12}l+v_{12}m)}} dl dm =V_{12}(u,v,0)  $$\n",
    "\n",
    "Under this form, the complex visibility $V_{12}$ is the Fourier transform of the intensity distribution $I_{\\nu}(l,m)$.\n",
    "\n",
    "More development about this theorem and the links with the classic Fraunhofer diffraction framework can be found in [<cite data-cite='2001isra.book.....T'>Thompson, Moran and Swenson $\\S$ 14, p. 594</cite>  &#10548;](http://adsabs.harvard.edu/abs/2001isra.book.....T).\n",
    "\n",
    "In reality, this theorem can be derived directly from the RIME framework [$\\S$ 7.2 &#10142;](../7_Observing_Systems/7_2_rime.ipynb).\n",
    "Moreover, no all points in the $uv$ plane are sampled therefore a lot of information is missing. But in the scope of these simplifications, the recovery of the intensity distribution $I_{\\nu}$ from partial measurement can be done and reduces to the solving of an inverse problem. This is on this partial information that deconvolution techniques are requires."
   ]
  },
  {
   "cell_type": "markdown",
   "metadata": {},
   "source": [
    "### 4.5.3 Chapter concluding remarks"
   ]
  },
  {
   "cell_type": "markdown",
   "metadata": {},
   "source": [
    "Interferometry in radio consists in the combinations by cross-correlation of the measured signals converted into voltages from incoming incoherent EM waves. In order to make these signals \"interfere\", we need to devise a system to combine them in phase. We introduced the concept of *baseline*, *projected baseline* and *phase center*. \n",
    " We started in [$\\S$ 4.1 &#10142;](4_1_The_Baseline.ipynb), by applying the tools introduced in [$\\S$ 3 &#10142;](../3_Positional_Astronomy/3_0_Introduction.ipynb) to express the baseline in a convenient reference frame attached to the *celestial sphere*. In [$\\S$ 4.2 &#10142;](4_2_The_2-element_Interferometer.ipynb), we studied the simple case of the 2-element interferometer for which we derived the relevant interferometric quantities (*phase center*, *coherence*, *visibility*).\n",
    " \n",
    "In [$\\S$ 4.3 &#10142;](4_3_The_Visibility_Function.ipynb), we extended the 1D case to a 3D definition of the visibility function. To give a physical interpretation on how relevant is the visibility function to study object in the sky, we linked the projected baseline measurement to the result of a spatial filter applied to the sky. Using this information, we demonstrate how the shape and the position of a source could be accurately measured by interferometry ($\\S$ 4.3.2).\n",
    "\n",
    "An interferometer samples the visibility function of the sky in a non-random manner. From the geometry of the interferometer with respect to the observed source, it was possible in [$\\S$ 4.4.1 &#10142;](4_4_1_UV_Coverage_UV_Tracks.ipynb) to derive the actual sampling path given by a physical baseline during the course of an observation. They take the form of elliptical path which can potentially enrich the $uv$ plane. The more diversified and numerous are the samples in the $uv$ plane, the better the knowledge of the visibility function. In order to improves the $uv$ coverage, we presented in [$\\S$ 4.4.2 &#10142;](4_4_2_UV_Coverage_Improving_Your_Coverage.ipynb) three different ways that increase the number of samples.\n",
    "\n",
    "The collection of samples can be used to retrieve an approximation of the sky. Under a series of approximations [$\\S$ 4.5.1 &#10549;](#sec:451), the definition of the visibility function can be linked to the intensity distribution through a Fourier transformation [$\\S$ 4.5.2 &#10549;](#sec:452).\n",
    "\n",
    "Once this relationship has been established, it is possible to cast the imaging problem as the *inverse problem* of recovering the sky $\\mathcal{I}_\\nu$ from a partial knowledge of its Fourier Transform, described by the sampled visibility function $\\mathcal{V}_\\nu$ in the scope of the Van Cittert-Zernike theorem.\n",
    "\n",
    "In [$\\S$ 5](../5_Imaging/5_0_introduction.ipynb), we address all the principle of imaging with the Fourier Transform and in [$\\S$ 6](../6_Deconvolution/6_0_introduction.ipynb), we address all the techniques used to perform the image deconvolution that solve the inverse problem of imaging by aperture synthesis.\n"
   ]
  },
  {
   "cell_type": "markdown",
   "metadata": {
    "collapsed": true
   },
   "source": [
    "***\n",
    "\n",
    "* Next: [4.x Further Reading And References](4_x_further_reading_and_references.ipynb)"
   ]
  },
  {
   "cell_type": "markdown",
   "metadata": {},
   "source": [
    "<div class=warn><b>Future Additions:</b></div>\n"
   ]
  }
 ],
 "metadata": {
  "kernelspec": {
   "display_name": "Python 2",
   "language": "python",
   "name": "python2"
  },
  "language_info": {
   "codemirror_mode": {
    "name": "ipython",
    "version": 2
   },
   "file_extension": ".py",
   "mimetype": "text/x-python",
   "name": "python",
   "nbconvert_exporter": "python",
   "pygments_lexer": "ipython2",
   "version": "2.7.6"
  }
 },
 "nbformat": 4,
 "nbformat_minor": 0
}
