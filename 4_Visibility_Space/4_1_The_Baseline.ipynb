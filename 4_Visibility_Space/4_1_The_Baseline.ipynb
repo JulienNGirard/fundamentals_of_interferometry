{
 "cells": [
  {
   "cell_type": "markdown",
   "metadata": {},
   "source": [
    "***\n",
    "\n",
    "* [Outline](../0_Introduction/0_introduction.ipynb)\n",
    "* [Glossary](../0_Introduction/1_glossary.ipynb)\n",
    "* [4. The Visibility Space](4_0_introduction.ipynb)\n",
    "    * Previous: [4.0 Introduction](4_0_introduction.ipynb)\n",
    "    * Next: [4.2 The 2-element Interferometer](4_2_The_2-element_Interferometer.ipynb)\n",
    "\n",
    "***"
   ]
  },
  {
   "cell_type": "markdown",
   "metadata": {},
   "source": [
    "Import standard modules:"
   ]
  },
  {
   "cell_type": "code",
   "execution_count": 1,
   "metadata": {
    "collapsed": false
   },
   "outputs": [
    {
     "data": {
      "text/html": [
       "<style>\n",
       "\n",
       "p.prerequisites {\n",
       "    border:5px;\n",
       "    border-style:none;\n",
       "    background-color:#F0F0F0;\n",
       "    box-shadow: 5px 5px 2px #888888;\n",
       "    border-color:#FF0000;\n",
       "    padding: 1em;\n",
       "    }\n",
       "\n",
       "p.conclusion {\n",
       "    border:5px;\n",
       "    border-style:none;\n",
       "    background-color:#c8ebca;\n",
       "    box-shadow: 5px 5px 2px #888888;\n",
       "    border-color:#c8ebca;\n",
       "    padding: 1em;\n",
       "    }\n",
       "\n",
       "div.warn {    \n",
       "    background-color: #fcf2f2;\n",
       "    border-color: #dFb5b4;\n",
       "    border-left: 5px solid #dfb5b4;\n",
       "    padding: 0.5em;\n",
       "    }\n",
       "\n",
       "div.advice {    \n",
       "    background-color: #ecf8ed;\n",
       "    border-color: #a2dda5;\n",
       "    border-left: 5px solid #a2dda5;\n",
       "    padding: 0.5em;\n",
       "    }\n",
       "\n",
       "</style>\n",
       "\n"
      ],
      "text/plain": [
       "<IPython.core.display.HTML object>"
      ]
     },
     "execution_count": 1,
     "metadata": {},
     "output_type": "execute_result"
    }
   ],
   "source": [
    "import numpy as np\n",
    "import matplotlib.pyplot as plt\n",
    "%matplotlib inline\n",
    "from IPython.display import HTML \n",
    "HTML('../style/course.css') #apply general CSS"
   ]
  },
  {
   "cell_type": "code",
   "execution_count": 2,
   "metadata": {
    "collapsed": false
   },
   "outputs": [
    {
     "data": {
      "text/html": [
       "<script>\n",
       "    code_show=false; \n",
       "    function code_toggle() {\n",
       "        if (code_show){\n",
       "            $('div.input').hide();\n",
       "        } else {\n",
       "            $('div.input').show();\n",
       "        }\n",
       "        code_show = !code_show\n",
       "    } \n",
       "    $( document ).ready(code_toggle);\n",
       "</script>\n",
       "\n",
       "The raw code for this notebook is by default hidden for easier reading. To toggle on/off the raw code, click <a href=\"javascript:code_toggle()\">here</a>.\n",
       "\n"
      ],
      "text/plain": [
       "<IPython.core.display.HTML object>"
      ]
     },
     "execution_count": 2,
     "metadata": {},
     "output_type": "execute_result"
    }
   ],
   "source": [
    "from IPython.display import HTML\n",
    "HTML('../style/code_toggle.html')"
   ]
  },
  {
   "cell_type": "markdown",
   "metadata": {},
   "source": [
    "# 4.1 The Baseline and Its Representation in Space"
   ]
  },
  {
   "cell_type": "markdown",
   "metadata": {},
   "source": [
    "---\n",
    "## Outline\n",
    "\n",
    "### 4.1.1 The physical baseline\n",
    "* 4.1.1.A Local definition of the baseline vector\n",
    "\n",
    "* 4.1.1.B The (East, North, Up) reference frame: a global definition of the baseline vector\n",
    "\n",
    "* 4.1.1.C Expression in Horizontal Coordinates ($\\mathcal{A}$, $\\mathcal{E}$)\n",
    "\n",
    "* 4.1.1.D Expression in the Equatorial (X,Y,Z) Frame\n",
    "\n",
    "### 4.1.2 The ($u$,$v$,$w$) Space\n",
    "\n",
    "___"
   ]
  },
  {
   "cell_type": "markdown",
   "metadata": {},
   "source": [
    "The *baseline*, which is the separation vector between two antenna element in an interferometric array, is a fundamental concept in interferometry. An array consists of several baselines (formed by every pair of antennas in the array), and thus the baseline configuration is determined by the configuration of antennas in the array. The concept of *projected baseline* will be introduced in this chapter, and expressions will be derived for the components of the baseline vector in various coordinate systems."
   ]
  },
  {
   "cell_type": "markdown",
   "metadata": {},
   "source": [
    "We will start by defining the notations along with the vector definition we will use in the entire course. This progression is designed to go from the *local* and *instantaneous* space of the observer (local $x$,$y$, $z$ on Earth) to the sky coordinates in the equatorial frame ($H$, $\\delta$) by a series of coordinate transforms:\n",
    "\n",
    "1. From local ($x$,$y$,$z$) to the (**E**ast, **N**orth, **U**p) \n",
    "2. From local  **E**, **N**, **U** to local azimuth/elevation ($\\mathcal{A}$, $\\mathcal{E}$) \n",
    "3. From local ($\\mathcal{A}$, $\\mathcal{E}$) to equatorial (($H$, $\\delta$), or equivalently, ($X$, $Y$, $Z$)) \n",
    "4. From the equatorial ($X$, $Y$, $Z$) to the ($u$, $v$, $w$)-space"
   ]
  },
  {
   "cell_type": "markdown",
   "metadata": {},
   "source": [
    "### 4.1.1 The physical baseline\n",
    "\n",
    "The physical baseline is a construct of the geometry which separates two antenna elements in a 3-D space, while the projected baseline is a mapping of the 3-D physical baseline to a 2-D plane determined by the direction of observation. While the physical baseline stays fixed in a terrestrial reference frame (ITRF is a common frame definition) the projected baseline changes as the Earth rotates relative to the point in the sky which is being observed."
   ]
  },
  {
   "cell_type": "markdown",
   "metadata": {},
   "source": [
    "#### 4.1.1.A Local definition of the baseline vector"
   ]
  },
  {
   "cell_type": "markdown",
   "metadata": {},
   "source": [
    "A position in 3-D can be described by a vector and defining an origin $O$ and orthogonal basis $\\mathcal{B}$:\n",
    "\n",
    "* A local Cartesian reference frame attached to the local ground defined as $\\mathcal{R}$ ($O$, $\\mathcal{B}$($\\mathbf{\\hat{e}_x}, \\mathbf{\\hat{e}_y}, \\mathbf{\\hat{e}_z}$)), as illustrated in Fig. [4.1.1 &#10549;](#fig:411).\n",
    "\n",
    "* Two antennas defined by their position vector in basis $\\mathcal{B}$:\n",
    "\n",
    "$$\\textbf{a}_1=\\vec{OA}_1=x_1 \\mathbf{\\hat{e}_x} + y_1 \\mathbf{\\hat{e}_y} + z_1 \\mathbf{\\hat{e}_z}$$\n",
    "\n",
    "$$\\textbf{a}_2=\\vec{OA}_2=x_2\\mathbf{\\hat{e}_x} + y_2 \\mathbf{\\hat{e}_y} + z_2 \\mathbf{\\hat{e}_z}$$\n",
    "\n",
    "and defined by their components ($x_1$,$y_1$,$z_1$) and ($x_2$,$y_2$,$z_2$) in basis $\\mathcal{B}$.\n",
    "\n",
    "We assume that the distance between the antennas is small enough to consider the ground to be a ground plane on which the basis vectors can be translated without any rotation. The *local physical baseline* in Cartesian coordinates is defined as the difference vector\n",
    "\n",
    "$$\\mathbf{b} = \\mathbf{a}_2 - \\mathbf{a}_1 = \\vec{A_1A_2} \\qquad.$$\n",
    "\n",
    "It is important to note that the physical baseline is a quantity which depends on the *relative positions* of two antenna elements and is *independent of the origin* of the reference frame."
   ]
  },
  {
   "cell_type": "markdown",
   "metadata": {},
   "source": [
    "<a id=\"fig:411\"></a>\n",
    "<img src='figures/vectorxyz.svg' width=30%>"
   ]
  },
  {
   "cell_type": "markdown",
   "metadata": {},
   "source": [
    "**Figure 4.1.1:** Vectors $a_1$ and $a_2$ in a local 3-dimensional Cartesian coordinate system."
   ]
  },
  {
   "cell_type": "markdown",
   "metadata": {},
   "source": [
    "#### 4.1.1.B The (East, North, Up) Reference Frame: A Global Definition of the Baseline Vector"
   ]
  },
  {
   "cell_type": "markdown",
   "metadata": {},
   "source": [
    "The problem with the previous formulation is that directions of $\\mathbf{\\hat{e}_x}, \\mathbf{\\hat{e}_y}, \\mathbf{\\hat{e}_z}$ are arbitrary. Instead the coordinate basis can be attached to an *absolute* reference in relation to the Earth. This can be achieved by defining a new Cartesian basis defined by the cardinal points and use a *terrestrial reference frame*. To do this we define a new origin and basis\n",
    "\n",
    "* We define the origin $O$ at some point on Earth. This origin can be arbitrary, but it is convenient to chose the 'centre' of the array layout or at the position of one of the array elements.\n",
    "* A *global* right-handed orthonormal basis $\\mathcal{B}'$($\\mathbf{\\hat{e}_E}, \\mathbf{\\hat{e}_N}, \\mathbf{\\hat{e}_U}$) pointing respectively towards the geographical **East** and **North**, and towards the local vertical (pointing to the Zenith away from the Earth, e.g. **Up**).\n",
    "\n",
    "The baseline vector is still expressed in a local reference frame but is coincidental with the geographical North and East (see Fig. [4.1.2 &#10549;](#fig:412))."
   ]
  },
  {
   "cell_type": "markdown",
   "metadata": {},
   "source": [
    "#### 4.1.1.C Expression in Horizontal Coordinates ($\\mathcal{A}$, $\\mathcal{E}$)"
   ]
  },
  {
   "cell_type": "markdown",
   "metadata": {},
   "source": [
    "As seen in [$\\S$ 3.4 &#10142;](../3_Positional_Astronomy/3_4_Horizontal_Coordinates.ipynb), an observer located somewhere on Earth can define a direction in the sky in terms of local *azimuth*  $\\mathcal{A}$ and *elevation*  $\\mathcal{E}$. Similarly, a baseline can also be expressed with these two coordinates. We now define:\n",
    "\n",
    "* Antenna 1 as the origin of the reference frame on the ground.\n",
    "* The North, East and Up axes (see $\\S$ 4.1.1.B)\n",
    "\n",
    "The *azimuth* is the angle contained in the plane of the local ground measured clock-wise from North to East. The *elevation* is the angle measured from the horizon to the local zenith."
   ]
  },
  {
   "cell_type": "markdown",
   "metadata": {},
   "source": [
    "<a id=\"fig:412\"></a>\n",
    "<img src='figures/enu_alt_az.svg' width=40%>"
   ]
  },
  {
   "cell_type": "markdown",
   "metadata": {},
   "source": [
    "**Figure 4.1.2**: Relation between the horizontal frame ($\\mathcal{A}$, $\\mathcal{E}$) and the ($E$, $N$, $U$) Cartesian frame."
   ]
  },
  {
   "cell_type": "markdown",
   "metadata": {},
   "source": [
    "The baseline vector is expressed in the $\\mathcal{B}'$ basis:\n",
    "\n",
    "\\begin{equation}\n",
    "\\mathbf{b}_{\\text{ENU}}\n",
    "=\n",
    "\\lvert \\mathbf{b} \\rvert\n",
    "\\begin{bmatrix}\n",
    "\\sin \\mathcal{A} \\cos \\mathcal{E}\\\\\n",
    "\\cos \\mathcal{A} \\cos \\mathcal{E}\\\\\n",
    "\\sin \\mathcal{E}\n",
    "\\end{bmatrix}\n",
    "\\end{equation}"
   ]
  },
  {
   "cell_type": "markdown",
   "metadata": {},
   "source": [
    "<div class=advice>\n",
    "<b>Note:</b> If Antenna 2 and Antenna 1 share the same component along $\\mathbf{\\hat{e}_U}$ (e.g. Antenna 1 and Antenna 2 lying on the ground plane), then the elevation of the baseline is $\\mathcal{E}=0^\\circ$.\n",
    "</div>"
   ]
  },
  {
   "cell_type": "markdown",
   "metadata": {},
   "source": [
    "<div class=warn>\n",
    "<b>Warnings:</b><br>\n",
    "<ul>\n",
    "<li>Geographers and the Astronomers use different conventions for the origin and variation of the azimuth. We will use the Astronomer convention as defined previously in [Chapter 3 &#10142;](../3_Positional_Astronomy/3_0_Introduction.ipynb).</li>\n",
    "<li>The horizontal coordinate system looks like a 2D spherical coordinates system with different conventions in terms of angle origin and direction of variation.</li>\n",
    "<li>The latitude $L_a$ was not expressed here but will be required later in the chapter.</li>\n",
    "</ul>\n",
    "</div>"
   ]
  },
  {
   "cell_type": "markdown",
   "metadata": {},
   "source": [
    "#### 4.1.1.D Expression in the Equatorial (X,Y,Z) Frame"
   ]
  },
  {
   "cell_type": "markdown",
   "metadata": {},
   "source": [
    "The baseline is fully described in the $ENU$ system using the *azimuth* $\\mathcal{A}$ and *elevation* $\\mathcal{E}$. As shown in [$\\S$ 3.2 &#10142;](../3_Positional_Astronomy/3_2_Equatorial_Coordinates.ipynb), at the observer location at latitude $L_a$, the extension of the direction of the baseline defines a position on the sky, which can be associated with Equatorial coordinates ($H$, $\\delta$), with $H$ being the hour angle and $\\delta$ the declination.\n",
    "\n",
    "To generalize the baseline further (and to ease the subsequent derivations), we need to define a set of reference frames which will associate the baseline definition to sky coordinates on the celestial sphere. For that purpose, we will define a new set of terrestrial reference frame $XYZ$ (defined by the basis ($\\mathbf{\\hat{e}_X}$,$\\mathbf{\\hat{e}_Y}$,$\\mathbf{\\hat{e}_Z}$)), attached to the Earth, as an intermediate reference frame. We can position these axes with respect to the Equatorial coordinates $(H; \\delta)$. We defined the axes of the $XYZ$ frame as:\n",
    "\n",
    "* the $X$-axis points towards $(H=0^\\textrm{h}, \\delta = 0^{\\circ})$ ($\\gamma$ the point where the vernal equinox crosses the local meridian)\n",
    "* the $Y$-axis towards $(H=-6^\\textrm{h}, \\delta = 0^{\\circ})$ (East)\n",
    "* the $Z$-axis towards the North Celestial Pole (NCP).\n",
    "\n",
    "Fig. [4.1.3 &#10549;](#fig:413) shows the plane of the array elements (red) can be related to the the plane of the celestial sphere via a coordinate transformation."
   ]
  },
  {
   "cell_type": "markdown",
   "metadata": {},
   "source": [
    "<a id=\"fig:413\"></a>\n",
    "<img src='figures/conversion.svg' width=50%>\n",
    "\n",
    "**Figure 4.1.3**: The (X,Y,Z) Reference frame. $T$: local zenith. ($X$,$Y$) = Celestial plane (blue) $\\perp$ to the NCP. ($N$,$S$,$E$,$W$) Antenna plane (red) $\\perp$ to the local zenith (T)."
   ]
  },
  {
   "cell_type": "markdown",
   "metadata": {},
   "source": [
    "<div class=warn>\n",
    "<b>Warning:</b>\n",
    "<ul>\n",
    "<li>Although we use Equatorial coordinates to define the $XYZ$-coordinate system, it represents a <em>terrestrial</em> reference frame, as the $X$, $Y$ and $Z$ axes never change orientation for a local observer on Earth.</li>\n",
    "<li>However, as the declination refers to the celestial equator, the latitude of the observer $L_a$ is required.</li>\n",
    "</ul>\n",
    "</div>\n",
    "\n",
    "We can convert ($\\mathcal{A}$, $\\mathcal{E}$, $L_a$) into $(H, \\delta)$ in this new frame:\n",
    "\n",
    "\\begin{equation}\n",
    "\\begin{bmatrix}\n",
    "X\\\\\n",
    "Y\\\\\n",
    "Z\n",
    "\\end{bmatrix}\n",
    "=\n",
    "\\begin{bmatrix}\n",
    "\\lvert \\mathbf{b} \\rvert \\cos \\delta \\cos H\\\\\n",
    "-\\lvert \\mathbf{b} \\rvert \\cos \\delta \\sin H\\\\\n",
    "\\lvert \\mathbf{b} \\rvert \\sin \\delta\n",
    "\\end{bmatrix}\n",
    "= \\lvert \\mathbf{b} \\rvert\n",
    "\\begin{bmatrix}\n",
    "\\cos L_a \\sin \\mathcal{E} - \\sin L_a \\cos \\mathcal{E} \\cos \\mathcal{A}\\nonumber\\\\ \n",
    "\\cos E \\sin \\mathcal{A} \\nonumber\\\\\n",
    "\\sin L_a \\sin \\mathcal{E} + \\cos L_a \\cos \\mathcal{E} \\cos \\mathcal{A}\\\\\n",
    "\\end{bmatrix}\n",
    "\\end{equation}\n",
    "\n",
    "**Equation A**: Conversion from baseline vector $\\mathcal{E},\\mathcal{A}$ to $XYZ$ . $\\mathbf{b}$: amplitude of baseline vector. $H$: Hour angle, $\\delta$: Declination, $L_a$ latitude of the array.\n",
    "\n",
    "<div class=advice>\n",
    "<b>Note:</b> The complete derivation of Eq. A from the spherical triangle <b>ZTS</b> can be found in [Appendix A.1 &#10142;](../0_Introduction/2_Appendix.ipynb)\n",
    "</div>"
   ]
  },
  {
   "cell_type": "markdown",
   "metadata": {},
   "source": [
    "### 4.1.2 The ($u$,$v$,$w$) Space"
   ]
  },
  {
   "cell_type": "markdown",
   "metadata": {},
   "source": [
    "Now that we have defined a baseline in a terrestrial XYZ frame we are ready for the final transformation to the celestial *uvw* reference frame. Let ($H_0$, $\\delta_0$) be the point on the celestial sphere in the direction of of a source $\\mathbf{s_0}$. We now define a new set of axes:\n",
    "\n",
    "* the $u$-axis lies in the celestial equatorial plane, and points toward the hour angle $H_0-6^\\text{h}$.\n",
    "* the $v$-axis lies in the plane of the great circle with hour angle $H_0$, and points toward the declination $\\frac{\\pi}{2}-\\delta_0$.\n",
    "* the $w$-axis points in the direction of $\\mathbf{s_0}$.\n",
    "\n",
    "The ($u$,$v$) axes form a 2-D plane perpendicular to $\\mathbf{s_0}$."
   ]
  },
  {
   "cell_type": "markdown",
   "metadata": {},
   "source": [
    "The transformation from the ($X$,$Y$,$Z$) frame to the ($u$, $v$, $w$) frame requires two succesive rotations applied to the equatorial coordinates of the baseline:\n",
    "\n",
    "1. $\\mathcal{R}_\\text{Z}^{\\frac{\\pi}{2}-H_0}$:  the rotation of the $X$,$Y$ axes around the $Z=Z'$ axis of angle $\\frac{\\pi}{2}-H_0$ making the new axes $X'$, $Y'$ (Green axes in Fig. [4.1.4 &#10549;](#fig:414))\n",
    "2. $\\mathcal{R}_\\text{X'}^{\\frac{\\pi}{2}-\\delta_0}$:  the rotation of the $Y'$,$Z'$ axes around the $X'=u$ axis of angle $\\frac{\\pi}{2}-\\delta_0$ making the new axes $u$, $v$ (red axes in Fig. [4.1.4 &#10549;](#fig:414)).\n",
    "\n"
   ]
  },
  {
   "cell_type": "markdown",
   "metadata": {},
   "source": [
    "<a id=\"fig:414\"></a>\n",
    "<img src='figures/coordinates2b.svg' width=50%>"
   ]
  },
  {
   "cell_type": "markdown",
   "metadata": {},
   "source": [
    "**Figure 4.1.4**: Relation of the (X,Y,Z) frame to the ($u$,$v$,$w$) frame. $Z$: local zenith. ($X$,$Y$) = Celestial plane $\\perp$ to the NCP."
   ]
  },
  {
   "cell_type": "markdown",
   "metadata": {},
   "source": [
    "The conversion from $XYZ$ to $uvw$ is expressed as following:\n",
    "\\begin{equation}\n",
    "\\begin{pmatrix}\n",
    "u\\\\\n",
    "v\\\\\n",
    "w\n",
    "\\end{pmatrix}\n",
    "=\n",
    "\\mathcal{R}_\\text{X'}^{\\frac{\\pi}{2}-\\delta_0}\n",
    "\\mathcal{R}_\\text{Z}^{\\frac{\\pi}{2}-H_0}\n",
    "\\begin{pmatrix}\n",
    "X\\\\\n",
    "Y\\\\\n",
    "Z\n",
    "\\end{pmatrix}\n",
    "\\end{equation}\n",
    "\n"
   ]
  },
  {
   "cell_type": "markdown",
   "metadata": {},
   "source": [
    "where\n",
    "\\begin{equation}\n",
    "\\mathcal{R}_\\text{X'}^{\\frac{\\pi}{2}-\\delta_0}\n",
    "=\n",
    "\\begin{pmatrix}\n",
    "1& 0& 0\\\\\n",
    "0 & \\cos (\\frac{\\pi}{2}- \\delta_0) & \\sin (\\frac{\\pi}{2}- \\delta_0)  \\\\\n",
    "0 &-\\sin (\\frac{\\pi}{2}- \\delta_0) & \\cos (\\frac{\\pi}{2}- \\delta_0) \\\\\n",
    "\\end{pmatrix} \n",
    "=\n",
    "\\begin{pmatrix}\n",
    "1& 0& 0\\\\\n",
    "0 & \\sin \\delta_0 & \\cos \\delta_0  \\\\\n",
    "0 &-\\cos \\delta_0 & \\sin \\delta_0 \\\\\n",
    "\\end{pmatrix} \n",
    "\\end{equation}"
   ]
  },
  {
   "cell_type": "markdown",
   "metadata": {},
   "source": [
    "and \\begin{equation}\n",
    "\\mathcal{R}_\\text{Z}^{\\frac{\\pi}{2}-H_0}\n",
    "=\n",
    "\\begin{pmatrix}\n",
    "\\cos (\\frac{\\pi}{2}- H_0) & \\sin (\\frac{\\pi}{2}- H_0) & 0 \\\\\n",
    "-\\sin (\\frac{\\pi}{2}- H_0) & \\cos (\\frac{\\pi}{2}- H_0) & 0 \\\\\n",
    "0 & 0 & 1\n",
    "\\end{pmatrix} \n",
    "=\n",
    "\\begin{pmatrix}\n",
    "\\sin H_0 & \\cos H_0 & 0 \\\\\n",
    "-\\cos H_0 & \\sin H_0 & 0 \\\\\n",
    "0 & 0 & 1\n",
    "\\end{pmatrix} \n",
    "\\end{equation}"
   ]
  },
  {
   "cell_type": "markdown",
   "metadata": {},
   "source": [
    "<div class=warn>\n",
    "<b>Warning:</b> The sequence of operations applied to vectors should be read from right to left as it is the rule in linear algebra.\n",
    "</div>"
   ]
  },
  {
   "cell_type": "markdown",
   "metadata": {},
   "source": [
    "Resulting in the transformation matrix:\n",
    "\\begin{equation}\n",
    "\\begin{pmatrix}\n",
    "u\\\\\n",
    "v\\\\\n",
    "w\n",
    "\\end{pmatrix}\n",
    "=\n",
    "\\begin{pmatrix}\n",
    "\\sin H_0 & \\cos H_0 & 0\\\\ \n",
    "-\\sin \\delta_0 \\cos H_0 & \\sin\\delta_0\\sin H_0 & \\cos\\delta_0\\\\\n",
    "\\cos \\delta_0 \\cos H_0 & -\\cos\\delta_0\\sin H_0 & \\sin\\delta_0\\\\\n",
    "\\end{pmatrix} \n",
    "\\begin{pmatrix}\n",
    "X\\\\\n",
    "Y\\\\\n",
    "Z\n",
    "\\end{pmatrix}\n",
    "\\end{equation}\n",
    "\n"
   ]
  },
  {
   "cell_type": "markdown",
   "metadata": {},
   "source": [
    "<div class=warn>\n",
    "<b>Warning:</b>\n",
    "We usually express the components ($u$, $v$, $w$) in units of wavelength (of the observation) by dividing the baseline vector by $\\lambda$:<br>\n",
    "\n",
    "\\begin{equation}\n",
    "\\mathbf{b_\\lambda}\n",
    "= \n",
    "\\frac{\\mathbf{b}}{\\lambda}\n",
    "= \n",
    "\\begin{pmatrix}\n",
    "u\\\\\n",
    "v\\\\\n",
    "w\n",
    "\\end{pmatrix}\n",
    "=\n",
    "\\frac{1}{\\lambda}\n",
    "\\begin{pmatrix}\n",
    "\\sin H_0 & \\cos H_0 & 0\\\\ \n",
    "-\\sin \\delta_0 \\cos H_0 & \\sin\\delta_0\\sin H_0 & \\cos\\delta_0\\\\\n",
    "\\cos \\delta_0 \\cos H_0 & -\\cos\\delta_0\\sin H_0 & \\sin\\delta_0\\\\\n",
    "\\end{pmatrix} \n",
    "\\begin{pmatrix}\n",
    "X\\\\\n",
    "Y\\\\\n",
    "Z\n",
    "\\end{pmatrix}\n",
    "\\end{equation}\n",
    "\n",
    "In the following sections and chapters, we will drop the $\\lambda$ underscript, as we will always assume that the $u$, $v$, $w$ components are in wavelength unit.\n",
    "</div>"
   ]
  },
  {
   "cell_type": "markdown",
   "metadata": {},
   "source": [
    "### Conclusion"
   ]
  },
  {
   "cell_type": "markdown",
   "metadata": {},
   "source": [
    "This section was dedicated to the expression of the baseline vector is astronomy-friendly reference frames. Later on, we will use the results of this section to quickly link the physical length of the baseline between two receivers, to a quantity measured on the celestial sphere. \n",
    "In [$\\S$ 4.2 &#10142;](4_2_The_2-element_Interferometer.ipynb), we will focus on a simple one dimension 2-element interferometer. We will address the correlation of two signals collected from a remote point source and construct the corresponding visibility function which will be addressed with more detailed in [$\\S$ 4.3 &#10142;](4_3_The_Visibility_Function.ipynb)"
   ]
  },
  {
   "cell_type": "markdown",
   "metadata": {},
   "source": [
    "***\n",
    "\n",
    "* Next: [4.2 The 2-element Interferometer](4_2_The_2-element_Interferometer.ipynb)"
   ]
  }
 ],
 "metadata": {
  "kernelspec": {
   "display_name": "Python 2",
   "language": "python",
   "name": "python2"
  },
  "language_info": {
   "codemirror_mode": {
    "name": "ipython",
    "version": 2
   },
   "file_extension": ".py",
   "mimetype": "text/x-python",
   "name": "python",
   "nbconvert_exporter": "python",
   "pygments_lexer": "ipython2",
   "version": "2.7.6"
  }
 },
 "nbformat": 4,
 "nbformat_minor": 0
}
