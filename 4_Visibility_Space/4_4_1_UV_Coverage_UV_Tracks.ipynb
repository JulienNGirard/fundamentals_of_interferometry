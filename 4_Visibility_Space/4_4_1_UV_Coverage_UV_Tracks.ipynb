{
 "cells": [
  {
   "cell_type": "markdown",
   "metadata": {},
   "source": [
    "***\n",
    "<a id='beginning'></a> <!--\\label{beginning}-->\n",
    "* [Outline](../0_Introduction/0_introduction.ipynb)\n",
    "* [Glossary](../0_Introduction/1_glossary.ipynb)\n",
    "* [4. The Visibility Space](4_0_introduction.ipynb)\n",
    "    * Previous: [4.3 The Visibility Function](4_3_The_Visibility_Function.ipynb)\n",
    "    * Next: [4.4.2 UV Coverage: Improving Your Coverage](4_4_2_UV_Coverage_Improving_Your_Coverage.ipynb)\n",
    "\n",
    "***"
   ]
  },
  {
   "cell_type": "markdown",
   "metadata": {},
   "source": [
    "Import standard modules:"
   ]
  },
  {
   "cell_type": "code",
   "execution_count": 1,
   "metadata": {
    "collapsed": false
   },
   "outputs": [
    {
     "data": {
      "text/html": [
       "<style>\n",
       "\n",
       "p.prerequisites {\n",
       "    border:5px;\n",
       "    border-style:none;\n",
       "    background-color:#F0F0F0;\n",
       "    box-shadow: 5px 5px 2px #888888;\n",
       "    border-color:#FF0000;\n",
       "    padding: 1em;\n",
       "    }\n",
       "\n",
       "p.conclusion {\n",
       "    border:5px;\n",
       "    border-style:none;\n",
       "    background-color:#c8ebca;\n",
       "    box-shadow: 5px 5px 2px #888888;\n",
       "    border-color:#c8ebca;\n",
       "    padding: 1em;\n",
       "    }\n",
       "\n",
       "div.warn {    \n",
       "    background-color: #fcf2f2;\n",
       "    border-color: #dFb5b4;\n",
       "    border-left: 5px solid #dfb5b4;\n",
       "    padding: 0.5em;\n",
       "    }\n",
       "\n",
       "div.advice {    \n",
       "    background-color: #ecf8ed;\n",
       "    border-color: #a2dda5;\n",
       "    border-left: 5px solid #a2dda5;\n",
       "    padding: 0.5em;\n",
       "    }\n",
       "\n",
       "</style>\n",
       "\n"
      ],
      "text/plain": [
       "<IPython.core.display.HTML object>"
      ]
     },
     "execution_count": 1,
     "metadata": {},
     "output_type": "execute_result"
    }
   ],
   "source": [
    "import numpy as np\n",
    "import matplotlib.pyplot as plt\n",
    "%matplotlib inline\n",
    "from IPython.display import HTML \n",
    "HTML('../style/course.css') #apply general CSS"
   ]
  },
  {
   "cell_type": "markdown",
   "metadata": {},
   "source": [
    "Import section specific modules:"
   ]
  },
  {
   "cell_type": "code",
   "execution_count": 2,
   "metadata": {
    "collapsed": false
   },
   "outputs": [],
   "source": [
    "from mpl_toolkits.mplot3d import Axes3D\n",
    "import plotBL"
   ]
  },
  {
   "cell_type": "code",
   "execution_count": 3,
   "metadata": {
    "collapsed": false
   },
   "outputs": [
    {
     "data": {
      "text/html": [
       "<script>\n",
       "    code_show=false; \n",
       "    function code_toggle() {\n",
       "        if (code_show){\n",
       "            $('div.input').hide();\n",
       "        } else {\n",
       "            $('div.input').show();\n",
       "        }\n",
       "        code_show = !code_show\n",
       "    } \n",
       "    $( document ).ready(code_toggle);\n",
       "</script>\n",
       "\n",
       "The raw code for this notebook is by default hidden for easier reading. To toggle on/off the raw code, click <a href=\"javascript:code_toggle()\">here</a>.\n",
       "\n"
      ],
      "text/plain": [
       "<IPython.core.display.HTML object>"
      ]
     },
     "execution_count": 3,
     "metadata": {},
     "output_type": "execute_result"
    }
   ],
   "source": [
    "HTML('../style/code_toggle.html')"
   ]
  },
  {
   "cell_type": "markdown",
   "metadata": {},
   "source": [
    "# 4.4.1 UV coverage : UV tracks"
   ]
  },
  {
   "cell_type": "markdown",
   "metadata": {},
   "source": [
    "The objectives of [$\\S$ 4.4.1 &#10549;](4_4_1_UV_Coverage_UV_Tracks.ipynb) and [$\\S$ 4.4.2 &#10142;](4_4_2_UV_Coverage_Improving_Your_Coverage.ipynb) is to give you a glimpse into the process of accumulation of measurements. An interferometer measures components of the sky Fourier Transform through the sampling of the Visibility function $\\mathcal{V}$. This collection of samples lives in the ($u$, $v$, $w$) space and are often projected into a plane, the $uv$-plane.\n",
    "In [$\\S$ 4.4.1 &#10549;](4_4_1_UV_Coverage_UV_Tracks.ipynb), we will focus on the way the visibility function is sampled as a function of the interferometer configuration, the direction of the source and observation time.\n",
    "In [$\\S$ 4.4.2 &#10142;](4_4_2_UV_Coverage_Improving_Your_Coverage.ipynb), we will see how this sampling can be improved by specific observing techniques."
   ]
  },
  {
   "cell_type": "markdown",
   "metadata": {},
   "source": [
    "### 4.4.1.A The projected baseline with time: the UV track"
   ]
  },
  {
   "cell_type": "markdown",
   "metadata": {},
   "source": [
    "The combination of a baseline and a direction in the sky enable us to define a projected baseline, which is the baseline as seen from the source. This projected baseline is associated with the measurement of a spatial frequency of the source. As the Earth rotates, this projected baseline and the corresponding spatial frequency at coordinate ($u$, $v$) slowly vary in time, generating a path in the $uv$-plane.\n",
    "\n",
    "In the following we will generate test cases to see what are the shape of the path and how it can be predicted according to the baseline geometry."
   ]
  },
  {
   "cell_type": "markdown",
   "metadata": {},
   "source": [
    "##### Baseline projection as seen from the source"
   ]
  },
  {
   "cell_type": "markdown",
   "metadata": {},
   "source": [
    "Let's generate one baseline from two antennas Ant$_1$ and Ant$_2$."
   ]
  },
  {
   "cell_type": "code",
   "execution_count": 4,
   "metadata": {
    "collapsed": false
   },
   "outputs": [],
   "source": [
    "ant1 = np.array([-500e3,500e3,0])   # in m\n",
    "ant2 = np.array([500e3,-500e3,+10]) # in m"
   ]
  },
  {
   "cell_type": "markdown",
   "metadata": {},
   "source": [
    "Let's express the corresponding physical baseline in ENU coordinates."
   ]
  },
  {
   "cell_type": "code",
   "execution_count": 5,
   "metadata": {
    "collapsed": false
   },
   "outputs": [
    {
     "name": "stdout",
     "output_type": "stream",
     "text": [
      "1414.21356241 km\n"
     ]
    }
   ],
   "source": [
    "b_ENU = ant2-ant1                # baseline \n",
    "D = np.sqrt(np.sum((b_ENU)**2))  # |b|\n",
    "print str(D/1000)+\" km\""
   ]
  },
  {
   "cell_type": "markdown",
   "metadata": {
    "collapsed": true
   },
   "source": [
    "Let's place the interferometer at a latitude $L_a=+45^\\circ00'00''$."
   ]
  },
  {
   "cell_type": "code",
   "execution_count": 6,
   "metadata": {
    "collapsed": true
   },
   "outputs": [],
   "source": [
    "L = (np.pi/180)*(45+0./60+0./3600)      # Latitude in radians"
   ]
  },
  {
   "cell_type": "code",
   "execution_count": 7,
   "metadata": {
    "collapsed": false
   },
   "outputs": [
    {
     "name": "stdout",
     "output_type": "stream",
     "text": [
      "Baseline Azimuth=135.0°\n",
      "Baseline Elevation=0.000405142342264°\n"
     ]
    }
   ],
   "source": [
    "A = np.arctan2(b_ENU[0],b_ENU[1])\n",
    "print \"Baseline Azimuth=\"+str(np.degrees(A))+\"°\"\n",
    "\n",
    "E = np.arcsin(b_ENU[2]/D)\n",
    "print \"Baseline Elevation=\"+str(np.degrees(E))+\"°\""
   ]
  },
  {
   "cell_type": "code",
   "execution_count": 8,
   "metadata": {
    "collapsed": false
   },
   "outputs": [
    {
     "data": {
      "application/javascript": [
       "/* Put everything inside the global mpl namespace */\n",
       "window.mpl = {};\n",
       "\n",
       "mpl.get_websocket_type = function() {\n",
       "    if (typeof(WebSocket) !== 'undefined') {\n",
       "        return WebSocket;\n",
       "    } else if (typeof(MozWebSocket) !== 'undefined') {\n",
       "        return MozWebSocket;\n",
       "    } else {\n",
       "        alert('Your browser does not have WebSocket support.' +\n",
       "              'Please try Chrome, Safari or Firefox ≥ 6. ' +\n",
       "              'Firefox 4 and 5 are also supported but you ' +\n",
       "              'have to enable WebSockets in about:config.');\n",
       "    };\n",
       "}\n",
       "\n",
       "mpl.figure = function(figure_id, websocket, ondownload, parent_element) {\n",
       "    this.id = figure_id;\n",
       "\n",
       "    this.ws = websocket;\n",
       "\n",
       "    this.supports_binary = (this.ws.binaryType != undefined);\n",
       "\n",
       "    if (!this.supports_binary) {\n",
       "        var warnings = document.getElementById(\"mpl-warnings\");\n",
       "        if (warnings) {\n",
       "            warnings.style.display = 'block';\n",
       "            warnings.textContent = (\n",
       "                \"This browser does not support binary websocket messages. \" +\n",
       "                    \"Performance may be slow.\");\n",
       "        }\n",
       "    }\n",
       "\n",
       "    this.imageObj = new Image();\n",
       "\n",
       "    this.context = undefined;\n",
       "    this.message = undefined;\n",
       "    this.canvas = undefined;\n",
       "    this.rubberband_canvas = undefined;\n",
       "    this.rubberband_context = undefined;\n",
       "    this.format_dropdown = undefined;\n",
       "\n",
       "    this.image_mode = 'full';\n",
       "\n",
       "    this.root = $('<div/>');\n",
       "    this._root_extra_style(this.root)\n",
       "    this.root.attr('style', 'display: inline-block');\n",
       "\n",
       "    $(parent_element).append(this.root);\n",
       "\n",
       "    this._init_header(this);\n",
       "    this._init_canvas(this);\n",
       "    this._init_toolbar(this);\n",
       "\n",
       "    var fig = this;\n",
       "\n",
       "    this.waiting = false;\n",
       "\n",
       "    this.ws.onopen =  function () {\n",
       "            fig.send_message(\"supports_binary\", {value: fig.supports_binary});\n",
       "            fig.send_message(\"send_image_mode\", {});\n",
       "            fig.send_message(\"refresh\", {});\n",
       "        }\n",
       "\n",
       "    this.imageObj.onload = function() {\n",
       "            if (fig.image_mode == 'full') {\n",
       "                // Full images could contain transparency (where diff images\n",
       "                // almost always do), so we need to clear the canvas so that\n",
       "                // there is no ghosting.\n",
       "                fig.context.clearRect(0, 0, fig.canvas.width, fig.canvas.height);\n",
       "            }\n",
       "            fig.context.drawImage(fig.imageObj, 0, 0);\n",
       "        };\n",
       "\n",
       "    this.imageObj.onunload = function() {\n",
       "        this.ws.close();\n",
       "    }\n",
       "\n",
       "    this.ws.onmessage = this._make_on_message_function(this);\n",
       "\n",
       "    this.ondownload = ondownload;\n",
       "}\n",
       "\n",
       "mpl.figure.prototype._init_header = function() {\n",
       "    var titlebar = $(\n",
       "        '<div class=\"ui-dialog-titlebar ui-widget-header ui-corner-all ' +\n",
       "        'ui-helper-clearfix\"/>');\n",
       "    var titletext = $(\n",
       "        '<div class=\"ui-dialog-title\" style=\"width: 100%; ' +\n",
       "        'text-align: center; padding: 3px;\"/>');\n",
       "    titlebar.append(titletext)\n",
       "    this.root.append(titlebar);\n",
       "    this.header = titletext[0];\n",
       "}\n",
       "\n",
       "\n",
       "\n",
       "mpl.figure.prototype._canvas_extra_style = function(canvas_div) {\n",
       "\n",
       "}\n",
       "\n",
       "\n",
       "mpl.figure.prototype._root_extra_style = function(canvas_div) {\n",
       "\n",
       "}\n",
       "\n",
       "mpl.figure.prototype._init_canvas = function() {\n",
       "    var fig = this;\n",
       "\n",
       "    var canvas_div = $('<div/>');\n",
       "\n",
       "    canvas_div.attr('style', 'position: relative; clear: both; outline: 0');\n",
       "\n",
       "    function canvas_keyboard_event(event) {\n",
       "        return fig.key_event(event, event['data']);\n",
       "    }\n",
       "\n",
       "    canvas_div.keydown('key_press', canvas_keyboard_event);\n",
       "    canvas_div.keyup('key_release', canvas_keyboard_event);\n",
       "    this.canvas_div = canvas_div\n",
       "    this._canvas_extra_style(canvas_div)\n",
       "    this.root.append(canvas_div);\n",
       "\n",
       "    var canvas = $('<canvas/>');\n",
       "    canvas.addClass('mpl-canvas');\n",
       "    canvas.attr('style', \"left: 0; top: 0; z-index: 0; outline: 0\")\n",
       "\n",
       "    this.canvas = canvas[0];\n",
       "    this.context = canvas[0].getContext(\"2d\");\n",
       "\n",
       "    var rubberband = $('<canvas/>');\n",
       "    rubberband.attr('style', \"position: absolute; left: 0; top: 0; z-index: 1;\")\n",
       "\n",
       "    var pass_mouse_events = true;\n",
       "\n",
       "    canvas_div.resizable({\n",
       "        start: function(event, ui) {\n",
       "            pass_mouse_events = false;\n",
       "        },\n",
       "        resize: function(event, ui) {\n",
       "            fig.request_resize(ui.size.width, ui.size.height);\n",
       "        },\n",
       "        stop: function(event, ui) {\n",
       "            pass_mouse_events = true;\n",
       "            fig.request_resize(ui.size.width, ui.size.height);\n",
       "        },\n",
       "    });\n",
       "\n",
       "    function mouse_event_fn(event) {\n",
       "        if (pass_mouse_events)\n",
       "            return fig.mouse_event(event, event['data']);\n",
       "    }\n",
       "\n",
       "    rubberband.mousedown('button_press', mouse_event_fn);\n",
       "    rubberband.mouseup('button_release', mouse_event_fn);\n",
       "    // Throttle sequential mouse events to 1 every 20ms.\n",
       "    rubberband.mousemove('motion_notify', mouse_event_fn);\n",
       "\n",
       "    rubberband.mouseenter('figure_enter', mouse_event_fn);\n",
       "    rubberband.mouseleave('figure_leave', mouse_event_fn);\n",
       "\n",
       "    canvas_div.on(\"wheel\", function (event) {\n",
       "        event = event.originalEvent;\n",
       "        event['data'] = 'scroll'\n",
       "        if (event.deltaY < 0) {\n",
       "            event.step = 1;\n",
       "        } else {\n",
       "            event.step = -1;\n",
       "        }\n",
       "        mouse_event_fn(event);\n",
       "    });\n",
       "\n",
       "    canvas_div.append(canvas);\n",
       "    canvas_div.append(rubberband);\n",
       "\n",
       "    this.rubberband = rubberband;\n",
       "    this.rubberband_canvas = rubberband[0];\n",
       "    this.rubberband_context = rubberband[0].getContext(\"2d\");\n",
       "    this.rubberband_context.strokeStyle = \"#000000\";\n",
       "\n",
       "    this._resize_canvas = function(width, height) {\n",
       "        // Keep the size of the canvas, canvas container, and rubber band\n",
       "        // canvas in synch.\n",
       "        canvas_div.css('width', width)\n",
       "        canvas_div.css('height', height)\n",
       "\n",
       "        canvas.attr('width', width);\n",
       "        canvas.attr('height', height);\n",
       "\n",
       "        rubberband.attr('width', width);\n",
       "        rubberband.attr('height', height);\n",
       "    }\n",
       "\n",
       "    // Set the figure to an initial 600x600px, this will subsequently be updated\n",
       "    // upon first draw.\n",
       "    this._resize_canvas(600, 600);\n",
       "\n",
       "    // Disable right mouse context menu.\n",
       "    $(this.rubberband_canvas).bind(\"contextmenu\",function(e){\n",
       "        return false;\n",
       "    });\n",
       "\n",
       "    function set_focus () {\n",
       "        canvas.focus();\n",
       "        canvas_div.focus();\n",
       "    }\n",
       "\n",
       "    window.setTimeout(set_focus, 100);\n",
       "}\n",
       "\n",
       "mpl.figure.prototype._init_toolbar = function() {\n",
       "    var fig = this;\n",
       "\n",
       "    var nav_element = $('<div/>')\n",
       "    nav_element.attr('style', 'width: 100%');\n",
       "    this.root.append(nav_element);\n",
       "\n",
       "    // Define a callback function for later on.\n",
       "    function toolbar_event(event) {\n",
       "        return fig.toolbar_button_onclick(event['data']);\n",
       "    }\n",
       "    function toolbar_mouse_event(event) {\n",
       "        return fig.toolbar_button_onmouseover(event['data']);\n",
       "    }\n",
       "\n",
       "    for(var toolbar_ind in mpl.toolbar_items) {\n",
       "        var name = mpl.toolbar_items[toolbar_ind][0];\n",
       "        var tooltip = mpl.toolbar_items[toolbar_ind][1];\n",
       "        var image = mpl.toolbar_items[toolbar_ind][2];\n",
       "        var method_name = mpl.toolbar_items[toolbar_ind][3];\n",
       "\n",
       "        if (!name) {\n",
       "            // put a spacer in here.\n",
       "            continue;\n",
       "        }\n",
       "        var button = $('<button/>');\n",
       "        button.addClass('ui-button ui-widget ui-state-default ui-corner-all ' +\n",
       "                        'ui-button-icon-only');\n",
       "        button.attr('role', 'button');\n",
       "        button.attr('aria-disabled', 'false');\n",
       "        button.click(method_name, toolbar_event);\n",
       "        button.mouseover(tooltip, toolbar_mouse_event);\n",
       "\n",
       "        var icon_img = $('<span/>');\n",
       "        icon_img.addClass('ui-button-icon-primary ui-icon');\n",
       "        icon_img.addClass(image);\n",
       "        icon_img.addClass('ui-corner-all');\n",
       "\n",
       "        var tooltip_span = $('<span/>');\n",
       "        tooltip_span.addClass('ui-button-text');\n",
       "        tooltip_span.html(tooltip);\n",
       "\n",
       "        button.append(icon_img);\n",
       "        button.append(tooltip_span);\n",
       "\n",
       "        nav_element.append(button);\n",
       "    }\n",
       "\n",
       "    var fmt_picker_span = $('<span/>');\n",
       "\n",
       "    var fmt_picker = $('<select/>');\n",
       "    fmt_picker.addClass('mpl-toolbar-option ui-widget ui-widget-content');\n",
       "    fmt_picker_span.append(fmt_picker);\n",
       "    nav_element.append(fmt_picker_span);\n",
       "    this.format_dropdown = fmt_picker[0];\n",
       "\n",
       "    for (var ind in mpl.extensions) {\n",
       "        var fmt = mpl.extensions[ind];\n",
       "        var option = $(\n",
       "            '<option/>', {selected: fmt === mpl.default_extension}).html(fmt);\n",
       "        fmt_picker.append(option)\n",
       "    }\n",
       "\n",
       "    // Add hover states to the ui-buttons\n",
       "    $( \".ui-button\" ).hover(\n",
       "        function() { $(this).addClass(\"ui-state-hover\");},\n",
       "        function() { $(this).removeClass(\"ui-state-hover\");}\n",
       "    );\n",
       "\n",
       "    var status_bar = $('<span class=\"mpl-message\"/>');\n",
       "    nav_element.append(status_bar);\n",
       "    this.message = status_bar[0];\n",
       "}\n",
       "\n",
       "mpl.figure.prototype.request_resize = function(x_pixels, y_pixels) {\n",
       "    // Request matplotlib to resize the figure. Matplotlib will then trigger a resize in the client,\n",
       "    // which will in turn request a refresh of the image.\n",
       "    this.send_message('resize', {'width': x_pixels, 'height': y_pixels});\n",
       "}\n",
       "\n",
       "mpl.figure.prototype.send_message = function(type, properties) {\n",
       "    properties['type'] = type;\n",
       "    properties['figure_id'] = this.id;\n",
       "    this.ws.send(JSON.stringify(properties));\n",
       "}\n",
       "\n",
       "mpl.figure.prototype.send_draw_message = function() {\n",
       "    if (!this.waiting) {\n",
       "        this.waiting = true;\n",
       "        this.ws.send(JSON.stringify({type: \"draw\", figure_id: this.id}));\n",
       "    }\n",
       "}\n",
       "\n",
       "\n",
       "mpl.figure.prototype.handle_save = function(fig, msg) {\n",
       "    var format_dropdown = fig.format_dropdown;\n",
       "    var format = format_dropdown.options[format_dropdown.selectedIndex].value;\n",
       "    fig.ondownload(fig, format);\n",
       "}\n",
       "\n",
       "\n",
       "mpl.figure.prototype.handle_resize = function(fig, msg) {\n",
       "    var size = msg['size'];\n",
       "    if (size[0] != fig.canvas.width || size[1] != fig.canvas.height) {\n",
       "        fig._resize_canvas(size[0], size[1]);\n",
       "        fig.send_message(\"refresh\", {});\n",
       "    };\n",
       "}\n",
       "\n",
       "mpl.figure.prototype.handle_rubberband = function(fig, msg) {\n",
       "    var x0 = msg['x0'];\n",
       "    var y0 = fig.canvas.height - msg['y0'];\n",
       "    var x1 = msg['x1'];\n",
       "    var y1 = fig.canvas.height - msg['y1'];\n",
       "    x0 = Math.floor(x0) + 0.5;\n",
       "    y0 = Math.floor(y0) + 0.5;\n",
       "    x1 = Math.floor(x1) + 0.5;\n",
       "    y1 = Math.floor(y1) + 0.5;\n",
       "    var min_x = Math.min(x0, x1);\n",
       "    var min_y = Math.min(y0, y1);\n",
       "    var width = Math.abs(x1 - x0);\n",
       "    var height = Math.abs(y1 - y0);\n",
       "\n",
       "    fig.rubberband_context.clearRect(\n",
       "        0, 0, fig.canvas.width, fig.canvas.height);\n",
       "\n",
       "    fig.rubberband_context.strokeRect(min_x, min_y, width, height);\n",
       "}\n",
       "\n",
       "mpl.figure.prototype.handle_figure_label = function(fig, msg) {\n",
       "    // Updates the figure title.\n",
       "    fig.header.textContent = msg['label'];\n",
       "}\n",
       "\n",
       "mpl.figure.prototype.handle_cursor = function(fig, msg) {\n",
       "    var cursor = msg['cursor'];\n",
       "    switch(cursor)\n",
       "    {\n",
       "    case 0:\n",
       "        cursor = 'pointer';\n",
       "        break;\n",
       "    case 1:\n",
       "        cursor = 'default';\n",
       "        break;\n",
       "    case 2:\n",
       "        cursor = 'crosshair';\n",
       "        break;\n",
       "    case 3:\n",
       "        cursor = 'move';\n",
       "        break;\n",
       "    }\n",
       "    fig.rubberband_canvas.style.cursor = cursor;\n",
       "}\n",
       "\n",
       "mpl.figure.prototype.handle_message = function(fig, msg) {\n",
       "    fig.message.textContent = msg['message'];\n",
       "}\n",
       "\n",
       "mpl.figure.prototype.handle_draw = function(fig, msg) {\n",
       "    // Request the server to send over a new figure.\n",
       "    fig.send_draw_message();\n",
       "}\n",
       "\n",
       "mpl.figure.prototype.handle_image_mode = function(fig, msg) {\n",
       "    fig.image_mode = msg['mode'];\n",
       "}\n",
       "\n",
       "mpl.figure.prototype.updated_canvas_event = function() {\n",
       "    // Called whenever the canvas gets updated.\n",
       "    this.send_message(\"ack\", {});\n",
       "}\n",
       "\n",
       "// A function to construct a web socket function for onmessage handling.\n",
       "// Called in the figure constructor.\n",
       "mpl.figure.prototype._make_on_message_function = function(fig) {\n",
       "    return function socket_on_message(evt) {\n",
       "        if (evt.data instanceof Blob) {\n",
       "            /* FIXME: We get \"Resource interpreted as Image but\n",
       "             * transferred with MIME type text/plain:\" errors on\n",
       "             * Chrome.  But how to set the MIME type?  It doesn't seem\n",
       "             * to be part of the websocket stream */\n",
       "            evt.data.type = \"image/png\";\n",
       "\n",
       "            /* Free the memory for the previous frames */\n",
       "            if (fig.imageObj.src) {\n",
       "                (window.URL || window.webkitURL).revokeObjectURL(\n",
       "                    fig.imageObj.src);\n",
       "            }\n",
       "\n",
       "            fig.imageObj.src = (window.URL || window.webkitURL).createObjectURL(\n",
       "                evt.data);\n",
       "            fig.updated_canvas_event();\n",
       "            fig.waiting = false;\n",
       "            return;\n",
       "        }\n",
       "        else if (typeof evt.data === 'string' && evt.data.slice(0, 21) == \"data:image/png;base64\") {\n",
       "            fig.imageObj.src = evt.data;\n",
       "            fig.updated_canvas_event();\n",
       "            fig.waiting = false;\n",
       "            return;\n",
       "        }\n",
       "\n",
       "        var msg = JSON.parse(evt.data);\n",
       "        var msg_type = msg['type'];\n",
       "\n",
       "        // Call the  \"handle_{type}\" callback, which takes\n",
       "        // the figure and JSON message as its only arguments.\n",
       "        try {\n",
       "            var callback = fig[\"handle_\" + msg_type];\n",
       "        } catch (e) {\n",
       "            console.log(\"No handler for the '\" + msg_type + \"' message type: \", msg);\n",
       "            return;\n",
       "        }\n",
       "\n",
       "        if (callback) {\n",
       "            try {\n",
       "                // console.log(\"Handling '\" + msg_type + \"' message: \", msg);\n",
       "                callback(fig, msg);\n",
       "            } catch (e) {\n",
       "                console.log(\"Exception inside the 'handler_\" + msg_type + \"' callback:\", e, e.stack, msg);\n",
       "            }\n",
       "        }\n",
       "    };\n",
       "}\n",
       "\n",
       "// from http://stackoverflow.com/questions/1114465/getting-mouse-location-in-canvas\n",
       "mpl.findpos = function(e) {\n",
       "    //this section is from http://www.quirksmode.org/js/events_properties.html\n",
       "    var targ;\n",
       "    if (!e)\n",
       "        e = window.event;\n",
       "    if (e.target)\n",
       "        targ = e.target;\n",
       "    else if (e.srcElement)\n",
       "        targ = e.srcElement;\n",
       "    if (targ.nodeType == 3) // defeat Safari bug\n",
       "        targ = targ.parentNode;\n",
       "\n",
       "    // jQuery normalizes the pageX and pageY\n",
       "    // pageX,Y are the mouse positions relative to the document\n",
       "    // offset() returns the position of the element relative to the document\n",
       "    var x = e.pageX - $(targ).offset().left;\n",
       "    var y = e.pageY - $(targ).offset().top;\n",
       "\n",
       "    return {\"x\": x, \"y\": y};\n",
       "};\n",
       "\n",
       "/*\n",
       " * return a copy of an object with only non-object keys\n",
       " * we need this to avoid circular references\n",
       " * http://stackoverflow.com/a/24161582/3208463\n",
       " */\n",
       "function simpleKeys (original) {\n",
       "  return Object.keys(original).reduce(function (obj, key) {\n",
       "    if (typeof original[key] !== 'object')\n",
       "        obj[key] = original[key]\n",
       "    return obj;\n",
       "  }, {});\n",
       "}\n",
       "\n",
       "mpl.figure.prototype.mouse_event = function(event, name) {\n",
       "    var canvas_pos = mpl.findpos(event)\n",
       "\n",
       "    if (name === 'button_press')\n",
       "    {\n",
       "        this.canvas.focus();\n",
       "        this.canvas_div.focus();\n",
       "    }\n",
       "\n",
       "    var x = canvas_pos.x;\n",
       "    var y = canvas_pos.y;\n",
       "\n",
       "    this.send_message(name, {x: x, y: y, button: event.button,\n",
       "                             step: event.step,\n",
       "                             guiEvent: simpleKeys(event)});\n",
       "\n",
       "    /* This prevents the web browser from automatically changing to\n",
       "     * the text insertion cursor when the button is pressed.  We want\n",
       "     * to control all of the cursor setting manually through the\n",
       "     * 'cursor' event from matplotlib */\n",
       "    event.preventDefault();\n",
       "    return false;\n",
       "}\n",
       "\n",
       "mpl.figure.prototype._key_event_extra = function(event, name) {\n",
       "    // Handle any extra behaviour associated with a key event\n",
       "}\n",
       "\n",
       "mpl.figure.prototype.key_event = function(event, name) {\n",
       "\n",
       "    // Prevent repeat events\n",
       "    if (name == 'key_press')\n",
       "    {\n",
       "        if (event.which === this._key)\n",
       "            return;\n",
       "        else\n",
       "            this._key = event.which;\n",
       "    }\n",
       "    if (name == 'key_release')\n",
       "        this._key = null;\n",
       "\n",
       "    var value = '';\n",
       "    if (event.ctrlKey && event.which != 17)\n",
       "        value += \"ctrl+\";\n",
       "    if (event.altKey && event.which != 18)\n",
       "        value += \"alt+\";\n",
       "    if (event.shiftKey && event.which != 16)\n",
       "        value += \"shift+\";\n",
       "\n",
       "    value += 'k';\n",
       "    value += event.which.toString();\n",
       "\n",
       "    this._key_event_extra(event, name);\n",
       "\n",
       "    this.send_message(name, {key: value,\n",
       "                             guiEvent: simpleKeys(event)});\n",
       "    return false;\n",
       "}\n",
       "\n",
       "mpl.figure.prototype.toolbar_button_onclick = function(name) {\n",
       "    if (name == 'download') {\n",
       "        this.handle_save(this, null);\n",
       "    } else {\n",
       "        this.send_message(\"toolbar_button\", {name: name});\n",
       "    }\n",
       "};\n",
       "\n",
       "mpl.figure.prototype.toolbar_button_onmouseover = function(tooltip) {\n",
       "    this.message.textContent = tooltip;\n",
       "};\n",
       "mpl.toolbar_items = [[\"Home\", \"Reset original view\", \"fa fa-home icon-home\", \"home\"], [\"Back\", \"Back to  previous view\", \"fa fa-arrow-left icon-arrow-left\", \"back\"], [\"Forward\", \"Forward to next view\", \"fa fa-arrow-right icon-arrow-right\", \"forward\"], [\"\", \"\", \"\", \"\"], [\"Pan\", \"Pan axes with left mouse, zoom with right\", \"fa fa-arrows icon-move\", \"pan\"], [\"Zoom\", \"Zoom to rectangle\", \"fa fa-square-o icon-check-empty\", \"zoom\"], [\"\", \"\", \"\", \"\"], [\"Download\", \"Download plot\", \"fa fa-floppy-o icon-save\", \"download\"]];\n",
       "\n",
       "mpl.extensions = [\"eps\", \"pdf\", \"png\", \"ps\", \"raw\", \"svg\"];\n",
       "\n",
       "mpl.default_extension = \"png\";var comm_websocket_adapter = function(comm) {\n",
       "    // Create a \"websocket\"-like object which calls the given IPython comm\n",
       "    // object with the appropriate methods. Currently this is a non binary\n",
       "    // socket, so there is still some room for performance tuning.\n",
       "    var ws = {};\n",
       "\n",
       "    ws.close = function() {\n",
       "        comm.close()\n",
       "    };\n",
       "    ws.send = function(m) {\n",
       "        //console.log('sending', m);\n",
       "        comm.send(m);\n",
       "    };\n",
       "    // Register the callback with on_msg.\n",
       "    comm.on_msg(function(msg) {\n",
       "        //console.log('receiving', msg['content']['data'], msg);\n",
       "        // Pass the mpl event to the overriden (by mpl) onmessage function.\n",
       "        ws.onmessage(msg['content']['data'])\n",
       "    });\n",
       "    return ws;\n",
       "}\n",
       "\n",
       "mpl.mpl_figure_comm = function(comm, msg) {\n",
       "    // This is the function which gets called when the mpl process\n",
       "    // starts-up an IPython Comm through the \"matplotlib\" channel.\n",
       "\n",
       "    var id = msg.content.data.id;\n",
       "    // Get hold of the div created by the display call when the Comm\n",
       "    // socket was opened in Python.\n",
       "    var element = $(\"#\" + id);\n",
       "    var ws_proxy = comm_websocket_adapter(comm)\n",
       "\n",
       "    function ondownload(figure, format) {\n",
       "        window.open(figure.imageObj.src);\n",
       "    }\n",
       "\n",
       "    var fig = new mpl.figure(id, ws_proxy,\n",
       "                           ondownload,\n",
       "                           element.get(0));\n",
       "\n",
       "    // Call onopen now - mpl needs it, as it is assuming we've passed it a real\n",
       "    // web socket which is closed, not our websocket->open comm proxy.\n",
       "    ws_proxy.onopen();\n",
       "\n",
       "    fig.parent_element = element.get(0);\n",
       "    fig.cell_info = mpl.find_output_cell(\"<div id='\" + id + \"'></div>\");\n",
       "    if (!fig.cell_info) {\n",
       "        console.error(\"Failed to find cell for figure\", id, fig);\n",
       "        return;\n",
       "    }\n",
       "\n",
       "    var output_index = fig.cell_info[2]\n",
       "    var cell = fig.cell_info[0];\n",
       "\n",
       "};\n",
       "\n",
       "mpl.figure.prototype.handle_close = function(fig, msg) {\n",
       "    fig.root.unbind('remove')\n",
       "\n",
       "    // Update the output cell to use the data from the current canvas.\n",
       "    fig.push_to_output();\n",
       "    var dataURL = fig.canvas.toDataURL();\n",
       "    // Re-enable the keyboard manager in IPython - without this line, in FF,\n",
       "    // the notebook keyboard shortcuts fail.\n",
       "    IPython.keyboard_manager.enable()\n",
       "    $(fig.parent_element).html('<img src=\"' + dataURL + '\">');\n",
       "    fig.close_ws(fig, msg);\n",
       "}\n",
       "\n",
       "mpl.figure.prototype.close_ws = function(fig, msg){\n",
       "    fig.send_message('closing', msg);\n",
       "    // fig.ws.close()\n",
       "}\n",
       "\n",
       "mpl.figure.prototype.push_to_output = function(remove_interactive) {\n",
       "    // Turn the data on the canvas into data in the output cell.\n",
       "    var dataURL = this.canvas.toDataURL();\n",
       "    this.cell_info[1]['text/html'] = '<img src=\"' + dataURL + '\">';\n",
       "}\n",
       "\n",
       "mpl.figure.prototype.updated_canvas_event = function() {\n",
       "    // Tell IPython that the notebook contents must change.\n",
       "    IPython.notebook.set_dirty(true);\n",
       "    this.send_message(\"ack\", {});\n",
       "    var fig = this;\n",
       "    // Wait a second, then push the new image to the DOM so\n",
       "    // that it is saved nicely (might be nice to debounce this).\n",
       "    setTimeout(function () { fig.push_to_output() }, 1000);\n",
       "}\n",
       "\n",
       "mpl.figure.prototype._init_toolbar = function() {\n",
       "    var fig = this;\n",
       "\n",
       "    var nav_element = $('<div/>')\n",
       "    nav_element.attr('style', 'width: 100%');\n",
       "    this.root.append(nav_element);\n",
       "\n",
       "    // Define a callback function for later on.\n",
       "    function toolbar_event(event) {\n",
       "        return fig.toolbar_button_onclick(event['data']);\n",
       "    }\n",
       "    function toolbar_mouse_event(event) {\n",
       "        return fig.toolbar_button_onmouseover(event['data']);\n",
       "    }\n",
       "\n",
       "    for(var toolbar_ind in mpl.toolbar_items){\n",
       "        var name = mpl.toolbar_items[toolbar_ind][0];\n",
       "        var tooltip = mpl.toolbar_items[toolbar_ind][1];\n",
       "        var image = mpl.toolbar_items[toolbar_ind][2];\n",
       "        var method_name = mpl.toolbar_items[toolbar_ind][3];\n",
       "\n",
       "        if (!name) { continue; };\n",
       "\n",
       "        var button = $('<button class=\"btn btn-default\" href=\"#\" title=\"' + name + '\"><i class=\"fa ' + image + ' fa-lg\"></i></button>');\n",
       "        button.click(method_name, toolbar_event);\n",
       "        button.mouseover(tooltip, toolbar_mouse_event);\n",
       "        nav_element.append(button);\n",
       "    }\n",
       "\n",
       "    // Add the status bar.\n",
       "    var status_bar = $('<span class=\"mpl-message\" style=\"text-align:right; float: right;\"/>');\n",
       "    nav_element.append(status_bar);\n",
       "    this.message = status_bar[0];\n",
       "\n",
       "    // Add the close button to the window.\n",
       "    var buttongrp = $('<div class=\"btn-group inline pull-right\"></div>');\n",
       "    var button = $('<button class=\"btn btn-mini btn-primary\" href=\"#\" title=\"Stop Interaction\"><i class=\"fa fa-power-off icon-remove icon-large\"></i></button>');\n",
       "    button.click(function (evt) { fig.handle_close(fig, {}); } );\n",
       "    button.mouseover('Stop Interaction', toolbar_mouse_event);\n",
       "    buttongrp.append(button);\n",
       "    var titlebar = this.root.find($('.ui-dialog-titlebar'));\n",
       "    titlebar.prepend(buttongrp);\n",
       "}\n",
       "\n",
       "mpl.figure.prototype._root_extra_style = function(el){\n",
       "    var fig = this\n",
       "    el.on(\"remove\", function(){\n",
       "\tfig.close_ws(fig, {});\n",
       "    });\n",
       "}\n",
       "\n",
       "mpl.figure.prototype._canvas_extra_style = function(el){\n",
       "    // this is important to make the div 'focusable\n",
       "    el.attr('tabindex', 0)\n",
       "    // reach out to IPython and tell the keyboard manager to turn it's self\n",
       "    // off when our div gets focus\n",
       "\n",
       "    // location in version 3\n",
       "    if (IPython.notebook.keyboard_manager) {\n",
       "        IPython.notebook.keyboard_manager.register_events(el);\n",
       "    }\n",
       "    else {\n",
       "        // location in version 2\n",
       "        IPython.keyboard_manager.register_events(el);\n",
       "    }\n",
       "\n",
       "}\n",
       "\n",
       "mpl.figure.prototype._key_event_extra = function(event, name) {\n",
       "    var manager = IPython.notebook.keyboard_manager;\n",
       "    if (!manager)\n",
       "        manager = IPython.keyboard_manager;\n",
       "\n",
       "    // Check for shift+enter\n",
       "    if (event.shiftKey && event.which == 13) {\n",
       "        this.canvas_div.blur();\n",
       "        event.shiftKey = false;\n",
       "        // Send a \"J\" for go to next cell\n",
       "        event.which = 74;\n",
       "        event.keyCode = 74;\n",
       "        manager.command_mode();\n",
       "        manager.handle_keydown(event);\n",
       "    }\n",
       "}\n",
       "\n",
       "mpl.figure.prototype.handle_save = function(fig, msg) {\n",
       "    fig.ondownload(fig, null);\n",
       "}\n",
       "\n",
       "\n",
       "mpl.find_output_cell = function(html_output) {\n",
       "    // Return the cell and output element which can be found *uniquely* in the notebook.\n",
       "    // Note - this is a bit hacky, but it is done because the \"notebook_saving.Notebook\"\n",
       "    // IPython event is triggered only after the cells have been serialised, which for\n",
       "    // our purposes (turning an active figure into a static one), is too late.\n",
       "    var cells = IPython.notebook.get_cells();\n",
       "    var ncells = cells.length;\n",
       "    for (var i=0; i<ncells; i++) {\n",
       "        var cell = cells[i];\n",
       "        if (cell.cell_type === 'code'){\n",
       "            for (var j=0; j<cell.output_area.outputs.length; j++) {\n",
       "                var data = cell.output_area.outputs[j];\n",
       "                if (data.data) {\n",
       "                    // IPython >= 3 moved mimebundle to data attribute of output\n",
       "                    data = data.data;\n",
       "                }\n",
       "                if (data['text/html'] == html_output) {\n",
       "                    return [cell, data, j];\n",
       "                }\n",
       "            }\n",
       "        }\n",
       "    }\n",
       "}\n",
       "\n",
       "// Register the function which deals with the matplotlib target/channel.\n",
       "// The kernel may be null if the page has been refreshed.\n",
       "if (IPython.notebook.kernel != null) {\n",
       "    IPython.notebook.kernel.comm_manager.register_target('matplotlib', mpl.mpl_figure_comm);\n",
       "}\n"
      ],
      "text/plain": [
       "<IPython.core.display.Javascript object>"
      ]
     },
     "metadata": {},
     "output_type": "display_data"
    },
    {
     "data": {
      "text/html": [
       "<img src=\"data:image/png;base64,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\">"
      ],
      "text/plain": [
       "<IPython.core.display.HTML object>"
      ]
     },
     "metadata": {},
     "output_type": "display_data"
    }
   ],
   "source": [
    "%matplotlib nbagg\n",
    "plotBL.sphere(ant1,ant2,A,E,D,L)"
   ]
  },
  {
   "cell_type": "markdown",
   "metadata": {},
   "source": [
    "**Figure 4.4.1**: A baseline located at +45$^\\circ$ as seen from the sky. This plot is interactive and can be rotated in 3D to see different baseline projection, depending on the position of the source w.r.t. the physical baseline."
   ]
  },
  {
   "cell_type": "markdown",
   "metadata": {},
   "source": [
    "On the previous interactive plot, we represented a baseline located at +45$^\\circ$, locally aligned with the south-west/north-east as seen from the celestial sphere. By rotating the sphere westward, you can simulate the variation of the baseline projection as seen from a source in apparent motion on the celestial sphere."
   ]
  },
  {
   "cell_type": "markdown",
   "metadata": {},
   "source": [
    "##### Coordinates of the baseline in the ($u$,$v$,$w$) plane"
   ]
  },
  {
   "cell_type": "markdown",
   "metadata": {},
   "source": [
    "We will now simulate an observation to study how a projected baseline will change with time. We located this baseline in South African latitude. We first need the expression of the physical baseline in a convenient reference frame attached with the source in the sky."
   ]
  },
  {
   "cell_type": "markdown",
   "metadata": {},
   "source": [
    "In [$\\S$ 4.1 &#10142;](4_1_The_Baseline.ipynb), we linked the equatorial coordinates of the baseline to the ($u$,$v$,$w$) space through the transformation matrix:\n",
    "\\begin{equation}\n",
    "\\begin{pmatrix}\n",
    "u\\\\\n",
    "v\\\\\n",
    "w\n",
    "\\end{pmatrix}\n",
    "=\n",
    "\\frac{1}{\\lambda}\n",
    "\\begin{pmatrix}\n",
    "\\sin H_0 & \\cos H_0 & 0\\\\ \n",
    "-\\sin \\delta_0 \\cos H_0 & \\sin\\delta_0\\sin H_0 & \\cos\\delta_0\\\\\n",
    "\\cos \\delta_0 \\cos H_0 & -\\cos\\delta_0\\sin H_0 & \\sin\\delta_0\\\\\n",
    "\\end{pmatrix} \n",
    "\\begin{pmatrix}\n",
    "X\\\\\n",
    "Y\\\\\n",
    "Z\n",
    "\\end{pmatrix}\n",
    "\\end{equation}"
   ]
  },
  {
   "cell_type": "markdown",
   "metadata": {},
   "source": [
    "<a id=\"eq:441\"></a>\n",
    "\\begin{equation}\n",
    "\\begin{bmatrix}\n",
    "X\\\\\n",
    "Y\\\\\n",
    "Z\n",
    "\\end{bmatrix}\n",
    "=|\\mathbf{b}|\n",
    "\\begin{bmatrix}\n",
    "\\cos L_a \\sin \\mathcal{E} - \\sin L_a \\cos \\mathcal{E} \\cos \\mathcal{A}\\nonumber\\\\ \n",
    "\\cos \\mathcal{E} \\sin \\mathcal{A} \\nonumber\\\\\n",
    "\\sin L_a \\sin \\mathcal{E} + \\cos L_a \\cos \\mathcal{E} \\cos \\mathcal{A}\\\\\n",
    "\\end{bmatrix}\n",
    "\\end{equation}\n"
   ]
  },
  {
   "cell_type": "markdown",
   "metadata": {
    "collapsed": true
   },
   "source": [
    "This expression of $\\mathcal{b}$ is a function of ($\\mathcal{A}$,$\\mathcal{E}$) in the equatorial ($X$,$Y$,$Z$) systems. "
   ]
  },
  {
   "cell_type": "markdown",
   "metadata": {
    "collapsed": true
   },
   "source": [
    "##### Observation parameters\n",
    "\n",
    "Let's define an arbitrary set of observation parameters to mimic an real observation.\n",
    "\n",
    "* Latitude of the baseline: $L_a=-30^\\circ43'17.34''$\n",
    "* Declination of the observation: $\\delta=-74^\\circ39'37.481''$\n",
    "* Duration of the observation: $\\Delta \\text{HA}=[-4^\\text{h},4^\\text{h}]$\n",
    "* Time steps: 600\n",
    "* Frequency: 1420 MHz"
   ]
  },
  {
   "cell_type": "code",
   "execution_count": null,
   "metadata": {
    "collapsed": false
   },
   "outputs": [],
   "source": [
    "# Observation parameters\n",
    "c = 3e8                                        # Speed of light\n",
    "f = 1420e9                                     # Frequency\n",
    "lam = c/f                                      # Wavelength \n",
    "dec = (np.pi/180)*(-30-43.0/60-17.34/3600)     # Declination\n",
    "\n",
    "time_steps = 600                               # time steps\n",
    "h = np.linspace(-4,4,num=time_steps)*np.pi/12  # Hour angle window"
   ]
  },
  {
   "cell_type": "markdown",
   "metadata": {
    "collapsed": true
   },
   "source": [
    "##### Computation of the projected baselines in ($u$,$v$,$w$) coordinates along time\n",
    "\n",
    "As seen previously, we convert the baseline coordinates using the previous matrix transformation."
   ]
  },
  {
   "cell_type": "code",
   "execution_count": null,
   "metadata": {
    "collapsed": false
   },
   "outputs": [],
   "source": [
    "ant1 = np.array([25.095,-9.095,0.045])\n",
    "ant2 = np.array([90.284,26.380,-0.226])\n",
    "b_ENU = ant2-ant1\n",
    "D = np.sqrt(np.sum((b_ENU)**2))\n",
    "L = (np.pi/180)*(-30-43.0/60-17.34/3600)\n",
    "\n",
    "A=np.arctan2(b_ENU[0],b_ENU[1])\n",
    "print \"Azimuth=\",A*(180/np.pi)\n",
    "E=np.arcsin(b_ENU[2]/D)\n",
    "print \"Elevation=\",E*(180/np.pi)\n",
    "\n",
    "X = D*(np.cos(L)*np.sin(E)-np.sin(L)*np.cos(E)*np.cos(A))\n",
    "Y = D*np.cos(E)*np.sin(A)\n",
    "Z = D*(np.sin(L)*np.sin(E)+np.cos(L)*np.cos(E)*np.cos(A))"
   ]
  },
  {
   "cell_type": "markdown",
   "metadata": {
    "collapsed": true
   },
   "source": [
    "As the $u$, $v$, $w$ coordinates depend explicitely on $H$, we must evaluate them for each time step of the observation. We will use the equations defined in [$\\S$ 4.1.2 &#10142;](4_1_The_Baseline.ipynb):"
   ]
  },
  {
   "cell_type": "markdown",
   "metadata": {
    "collapsed": true
   },
   "source": [
    "* $\\lambda u = X \\sin H + Y \\cos H$\n",
    "* $\\lambda v= -X \\sin \\delta \\cos H + Y \\sin\\delta\\sin H + Z \\cos\\delta$\n",
    "* $\\lambda w= X \\cos \\delta \\cos H -Y \\cos\\delta\\sin H + Z \\sin\\delta$"
   ]
  },
  {
   "cell_type": "code",
   "execution_count": null,
   "metadata": {
    "collapsed": false
   },
   "outputs": [],
   "source": [
    "u = lam**(-1)*(np.sin(h)*X+np.cos(h)*Y)/1e3\n",
    "v = lam**(-1)*(-np.sin(dec)*np.cos(h)*X+np.sin(dec)*np.sin(h)*Y+np.cos(dec)*Z)/1e3\n",
    "w = lam**(-1)*(np.cos(dec)*np.cos(h)*X-np.cos(dec)*np.sin(h)*Y+np.sin(dec)*Z)/1e3"
   ]
  },
  {
   "cell_type": "markdown",
   "metadata": {
    "collapsed": true
   },
   "source": [
    "We have now everything that describe the $uvw$-track of the baseline over an 8-hour observation period. Under this form, it is for the moment quite unclear which shape the $uvw$ track takes. Let's plot it on the $uvw$ space and its protection $uv$ space."
   ]
  },
  {
   "cell_type": "code",
   "execution_count": null,
   "metadata": {
    "collapsed": false
   },
   "outputs": [],
   "source": [
    "%matplotlib nbagg\n",
    "plotBL.UV(u,v,w)"
   ]
  },
  {
   "cell_type": "markdown",
   "metadata": {},
   "source": [
    "**Figure 4.4.2**: $uvw$ track derived from the simulation and projection in the $uv$-plane."
   ]
  },
  {
   "cell_type": "markdown",
   "metadata": {
    "collapsed": true
   },
   "source": [
    "The track in the $uvw$ space are curves and the projection in the $uv$ plane are arcs. Let's focus more on the projection of the track in this plane. To get an observation-independent knowledge of the track, we can try to combine the three equations of $u$, $v$ and $w$ with the objective of eliminating $H$ from the equation. We end up an equation linking $u$, $v$, $X$ and $Y$ (the full derivation can be found in [$\\S$ A.3 &#10142;](../0_Introduction/2_Appendix.ipynb)):\n",
    "\n",
    "$$\\boxed{u^2 + \\left[ \\frac{v -\\frac{Z}{\\lambda} \\cos \\delta}{\\sin \\delta} \\right]^2 = \\left[ \\frac{X}{\\lambda} \\right]^2 + \\left[ \\frac{Y}{\\lambda} \\right]^2}$$\n",
    "\n",
    "One can note that in this particular case, the $uv$ tracks is described by the equation of an ellipsis.\n",
    "\n",
    "This ellipsis is centered at $(0,\\frac{Z}{\\lambda} \\cos \\delta)$ in the ($u$,$v$) plane.\n",
    "\n",
    "The major axis of  $a=\\frac{\\sqrt{X^2 + Y^2}}{\\lambda}$.\n",
    "\n",
    "The minor axis along the axis $v$ will be a function of $Z$, $\\delta$ and $a$.\n",
    "To verify this fact, let's plot the theoretical ellipsis over the observed portion of the track. (You can fall back to the duration of the observation to see that the track is mapping exactly the ellipsis)."
   ]
  },
  {
   "cell_type": "code",
   "execution_count": null,
   "metadata": {
    "collapsed": false
   },
   "outputs": [],
   "source": [
    "%matplotlib inline\n",
    "from matplotlib.patches import Ellipse\n",
    "\n",
    "# parameters of the UVtrack as an ellipse\n",
    "a=np.sqrt(X**2+Y**2)/lam/1e3 # major axis  \n",
    "b=a*np.sin(dec)              # minor axis\n",
    "v0=Z/lam*np.cos(dec)/1e3     # center of ellipse\n",
    "\n",
    "plotBL.UVellipse(u,v,w,a,b,v0)"
   ]
  },
  {
   "cell_type": "markdown",
   "metadata": {},
   "source": [
    "**Figure 4.4.3**: The blue (resp. the red) curve is the $uv$ track of the baseline $\\mathbf{b}_{12}$ (resp. $\\mathbf{b}_{21}$). As $I_\\nu$ is real, the real part of the visibility $\\mathcal{V}$ is even and the imaginary part if odd making $\\mathcal{V}(-u,-v)=\\mathcal{V}^*$. It implies that one baseline provide a measurement of its complex conjugate for free at ($-u$,$-v$)."
   ]
  },
  {
   "cell_type": "markdown",
   "metadata": {},
   "source": [
    "### 4.4.1.B Special cases"
   ]
  },
  {
   "cell_type": "markdown",
   "metadata": {},
   "source": [
    "##### The Polar interferometer"
   ]
  },
  {
   "cell_type": "markdown",
   "metadata": {},
   "source": [
    "Let settle one baseline at the North pole. The local zenith corresponds to the North Celestial Pole at $\\delta=90^\\circ$. As seen from the NCP, the baseline will rotate and the projected baseline will correspond to the physical baseline. This is the only case where it is happening.\n",
    "\n",
    "If $\\mathbf{b}$ rotates, we can guess that the $uv$ tracks will be perfect circles. Let's verify that."
   ]
  },
  {
   "cell_type": "code",
   "execution_count": null,
   "metadata": {
    "collapsed": false
   },
   "outputs": [],
   "source": [
    "L=np.radians(90.)\n",
    "ant1 = np.array([25.095,-9.095,0.045])\n",
    "ant2 = np.array([90.284,26.380,-0.226])\n",
    "b_ENU = ant2-ant1\n",
    "D = np.sqrt(np.sum((b_ENU)**2))\n",
    "\n",
    "A=np.arctan2(b_ENU[0],b_ENU[1])\n",
    "print \"Azimuth=\",A*(180/np.pi)\n",
    "E=np.arcsin(b_ENU[2]/D)\n",
    "print \"Elevation=\",E*(180/np.pi)\n",
    "\n",
    "X = D*(np.cos(L)*np.sin(E)-np.sin(L)*np.cos(E)*np.cos(A))\n",
    "Y = D*np.cos(E)*np.sin(A)\n",
    "Z = D*(np.sin(L)*np.sin(E)+np.cos(L)*np.cos(E)*np.cos(A))"
   ]
  },
  {
   "cell_type": "markdown",
   "metadata": {},
   "source": [
    "Let's compute the $uv$ tracks when observing the NCP ($\\delta=90^\\circ$):"
   ]
  },
  {
   "cell_type": "code",
   "execution_count": null,
   "metadata": {
    "collapsed": false
   },
   "outputs": [],
   "source": [
    "dec=np.radians(90.)\n",
    "\n",
    "uNCP = lam**(-1)*(np.sin(h)*X+np.cos(h)*Y)/1e3\n",
    "vNCP = lam**(-1)*(-np.sin(dec)*np.cos(h)*X+np.sin(dec)*np.sin(h)*Y+np.cos(dec)*Z)/1e3\n",
    "wNCP = lam**(-1)*(np.cos(dec)*np.cos(h)*X-np.cos(dec)*np.sin(h)*Y+np.sin(dec)*Z)/1e3\n",
    "\n",
    "# parameters of the UVtrack as an ellipse\n",
    "aNCP=np.sqrt(X**2+Y**2)/lam/1e3 # major axis  \n",
    "bNCP=aNCP*np.sin(dec)              # minor axi\n",
    "v0NCP=Z/lam*np.cos(dec)/1e3     # center of ellipse"
   ]
  },
  {
   "cell_type": "markdown",
   "metadata": {},
   "source": [
    "Let's compute the uv tracks when observing a source at $\\delta=30^\\circ$:"
   ]
  },
  {
   "cell_type": "code",
   "execution_count": null,
   "metadata": {
    "collapsed": true
   },
   "outputs": [],
   "source": [
    "dec=np.radians(30.)\n",
    "\n",
    "u30 = lam**(-1)*(np.sin(h)*X+np.cos(h)*Y)/1e3\n",
    "v30 = lam**(-1)*(-np.sin(dec)*np.cos(h)*X+np.sin(dec)*np.sin(h)*Y+np.cos(dec)*Z)/1e3\n",
    "w30 = lam**(-1)*(np.cos(dec)*np.cos(h)*X-np.cos(dec)*np.sin(h)*Y+np.sin(dec)*Z)/1e3\n",
    "\n",
    "a30=np.sqrt(X**2+Y**2)/lam/1e3 # major axis  \n",
    "b30=a*np.sin(dec)              # minor axi\n",
    "v030=Z/lam*np.cos(dec)/1e3     # center of ellipse"
   ]
  },
  {
   "cell_type": "code",
   "execution_count": null,
   "metadata": {
    "collapsed": false
   },
   "outputs": [],
   "source": [
    "%matplotlib inline\n",
    "plotBL.UVellipse(u30,v30,w30,a30,b30,v030)\n",
    "plotBL.UVellipse(uNCP,vNCP,wNCP,aNCP,bNCP,v0NCP)"
   ]
  },
  {
   "cell_type": "markdown",
   "metadata": {},
   "source": [
    "**Figure 4.4.4**: $uv$ track for a baseline at the pole observing at $\\delta=90^\\circ$ (NCP) and at $\\delta=30^\\circ$ with the same color conventions as the previous figure."
   ]
  },
  {
   "cell_type": "markdown",
   "metadata": {},
   "source": [
    "When observing a source at declination $\\delta$, we still have an elliptical shape but centered at (0,0). In the case of a polar interferometer, the full $uv$ track can be covered in 12 hours only due to the symmetry of the baseline."
   ]
  },
  {
   "cell_type": "markdown",
   "metadata": {},
   "source": [
    "##### The Equatorial interferometer"
   ]
  },
  {
   "cell_type": "markdown",
   "metadata": {},
   "source": [
    "This time, we position the interferometer at the equator. The local zenith is crossed by the Celestial Equator at $\\delta=0^\\circ$. As seen from the celestial equator, the baseline will not rotate and the projected baseline will no longer correspond to the physical baseline. This is the only case where it is happening.\n",
    "\n",
    "If $\\mathbf{b}$ is not rotating, we can guess that the $uv$ tracks will be perfect lines."
   ]
  },
  {
   "cell_type": "code",
   "execution_count": null,
   "metadata": {
    "collapsed": true
   },
   "outputs": [],
   "source": [
    "L=np.radians(90.)\n",
    "X = D*(np.cos(L)*np.sin(E)-np.sin(L)*np.cos(E)*np.cos(A))\n",
    "Y = D*np.cos(E)*np.sin(A)\n",
    "Z = D*(np.sin(L)*np.sin(E)+np.cos(L)*np.cos(E)*np.cos(A))\n",
    "\n",
    "# At local zenith == Celestial Equator\n",
    "dec=np.radians(0.)\n",
    "\n",
    "uEQ = lam**(-1)*(np.sin(h)*X+np.cos(h)*Y)/1e3\n",
    "vEQ = lam**(-1)*(-np.sin(dec)*np.cos(h)*X+np.sin(dec)*np.sin(h)*Y+np.cos(dec)*Z)/1e3\n",
    "wEQ = lam**(-1)*(np.cos(dec)*np.cos(h)*X-np.cos(dec)*np.sin(h)*Y+np.sin(dec)*Z)/1e3\n",
    "\n",
    "# parameters of the UVtrack as an ellipse\n",
    "aEQ=np.sqrt(X**2+Y**2)/lam/1e3 # major axis  \n",
    "bEQ=aEQ*np.sin(dec)              # minor axi\n",
    "v0EQ=Z/lam*np.cos(dec)/1e3     # center of ellipse\n",
    "\n",
    "# Close to Zenith\n",
    "dec=np.radians(10.)\n",
    "\n",
    "u10 = lam**(-1)*(np.sin(h)*X+np.cos(h)*Y)/1e3\n",
    "v10 = lam**(-1)*(-np.sin(dec)*np.cos(h)*X+np.sin(dec)*np.sin(h)*Y+np.cos(dec)*Z)/1e3\n",
    "w10 = lam**(-1)*(np.cos(dec)*np.cos(h)*X-np.cos(dec)*np.sin(h)*Y+np.sin(dec)*Z)/1e3\n",
    "\n",
    "a10=np.sqrt(X**2+Y**2)/lam/1e3 # major axis  \n",
    "b10=a*np.sin(dec)              # minor axi\n",
    "v010=Z/lam*np.cos(dec)/1e3     # center of ellipse"
   ]
  },
  {
   "cell_type": "code",
   "execution_count": null,
   "metadata": {
    "collapsed": false
   },
   "outputs": [],
   "source": [
    "%matplotlib inline\n",
    "plotBL.UVellipse(u10,v10,w10,a10,b10,v010)\n",
    "plotBL.UVellipse(uEQ,vEQ,wEQ,aEQ,bEQ,v0EQ)"
   ]
  },
  {
   "cell_type": "markdown",
   "metadata": {},
   "source": [
    "**Figure 4.4.5**: $uv$ track for a baseline at the equator observing at $\\delta=0^\\circ$ and at $\\delta=10^\\circ$ with the same color convention as the previous figure."
   ]
  },
  {
   "cell_type": "markdown",
   "metadata": {},
   "source": [
    "An equatorial interferometer observing at zenith will see radio sources crossing the sky on straight line paths. Therefore, they will produce straight $uv$ coordinates."
   ]
  },
  {
   "cell_type": "markdown",
   "metadata": {},
   "source": [
    "##### The East-West array <a id='vis:sec:ew'></a> <!--\\label{vis:sec:ew}-->"
   ]
  },
  {
   "cell_type": "markdown",
   "metadata": {},
   "source": [
    "The East-West array is a specific case of interferometer where the physical baseline is aligned with the ground East-West direction. They provide the property of giving a $uv$ coverage fully included on a plane."
   ]
  },
  {
   "cell_type": "markdown",
   "metadata": {},
   "source": [
    "If the baseline is aligned with the East-West direction, then the Elevation $\\mathcal{E}$ of the baseline is zero and the Azimuth $\\mathcal{A}$ is $\\frac{\\pi}{2}$. Equation [1](#eq:441) then simplifies as follow:"
   ]
  },
  {
   "cell_type": "markdown",
   "metadata": {},
   "source": [
    "Only the $Y$ component of the baseline will be non zero."
   ]
  },
  {
   "cell_type": "markdown",
   "metadata": {},
   "source": [
    "\\begin{equation}\n",
    "\\frac{1}{\\lambda}\n",
    "\\begin{bmatrix}\n",
    "X\\\\\n",
    "Y\\\\\n",
    "Z\n",
    "\\end{bmatrix}\n",
    "=\n",
    "|\\mathbf{b_\\lambda}|\n",
    "\\begin{bmatrix}\n",
    "\\cos L_a \\sin 0 - \\sin L_a \\cos 0 \\cos \\frac{\\pi}{2}\\nonumber\\\\ \n",
    "\\cos 0 \\sin \\frac{\\pi}{2} \\nonumber\\\\\n",
    "\\sin L_a \\sin 0 + \\cos L_a \\cos 0 \\cos \\frac{\\pi}{2}\\\\\n",
    "\\end{bmatrix}\n",
    "=\n",
    "\\begin{bmatrix}\n",
    "0\\\\\n",
    "|\\mathbf{b_\\lambda}|\\\\\n",
    "0 \\\\\n",
    "\\end{bmatrix}\n",
    "\\end{equation}"
   ]
  },
  {
   "cell_type": "markdown",
   "metadata": {},
   "source": [
    "If we observe a source at declination $\\delta_0$ but with varying Hour Angle, $H$, we will have the following relation:\n",
    "\n",
    "\\begin{equation}\n",
    "\\begin{pmatrix}\n",
    "u\\\\\n",
    "v\\\\\n",
    "w\\\\\n",
    "\\end{pmatrix}\n",
    "=\n",
    "\\begin{pmatrix}\n",
    "\\sin H & \\cos H & 0\\\\ \n",
    "-\\sin \\delta_0 \\cos H & \\sin\\delta_0\\sin H & \\cos\\delta_0\\\\\n",
    "\\cos \\delta_0 \\cos H & -\\cos\\delta_0\\sin H & \\sin\\delta_0\\\\\n",
    "\\end{pmatrix} \n",
    "\\begin{pmatrix}\n",
    "0\\\\\n",
    "|\\mathbf{b_\\lambda}| \\\\\n",
    "0\n",
    "\\end{pmatrix}\n",
    "\\end{equation}\n",
    "\n",
    "\\begin{equation}\n",
    "\\begin{pmatrix}\n",
    "u\\\\\n",
    "v\\\\\n",
    "w\\\\\n",
    "\\end{pmatrix}\n",
    "=\n",
    "\\begin{pmatrix}\n",
    "|\\mathbf{b_\\lambda}| \\cos H \\\\ \n",
    "|\\mathbf{b_\\lambda}| \\sin\\delta_0 \\sin H\\\\\n",
    "-|\\mathbf{b_\\lambda}|\\cos\\delta_0\\sin H\\\\\n",
    "\\end{pmatrix} \n",
    "\\end{equation}\n",
    "\n",
    "when $H = 6^\\text{h}$ (West)\n",
    "\n",
    "\\begin{equation}\n",
    "\\begin{pmatrix}\n",
    "u\\\\\n",
    "v\\\\\n",
    "w\\\\\n",
    "\\end{pmatrix}\n",
    "=\n",
    "\\begin{pmatrix}\n",
    "0 \\\\ \n",
    "|\\mathbf{b_\\lambda}|\\sin\\delta_0\\\\\n",
    "|\\mathbf{b_\\lambda}|\\cos\\delta_0\\\\\n",
    "\\end{pmatrix} \n",
    "\\end{equation}\n",
    "\n",
    "when $H = 0^\\text{h}$ (South)\n",
    "\\begin{equation}\n",
    "\\begin{pmatrix}\n",
    "u\\\\\n",
    "v\\\\\n",
    "w\\\\\n",
    "\\end{pmatrix}\n",
    "=\n",
    "\\begin{pmatrix}\n",
    "|\\mathbf{b_\\lambda}| \\\\ \n",
    "0\\\\\n",
    "0\\\\\n",
    "\\end{pmatrix} \n",
    "\\end{equation}\n",
    "\n",
    "when $H = -6^\\text{h}$ (East)\n",
    "\n",
    "\\begin{equation}\n",
    "\\begin{pmatrix}\n",
    "u\\\\\n",
    "v\\\\\n",
    "w\\\\\n",
    "\\end{pmatrix}\n",
    "=\n",
    "\\begin{pmatrix}\n",
    "0 \\\\ \n",
    "-|\\mathbf{b_\\lambda}|\\sin\\delta_0\\\\\n",
    "-|\\mathbf{b_\\lambda}|\\cos\\delta_0\n",
    "\\end{pmatrix} \n",
    "\\end{equation}"
   ]
  },
  {
   "cell_type": "markdown",
   "metadata": {},
   "source": [
    "In this case, one can notice that we always have a relationship between $u$, $v$ and $|\\mathbf{b_\\lambda}|$:\n",
    "\n",
    "$$ u^2+\\left( \\frac{v}{\\sin\\delta_0}\\right) ^2=|\\mathbf{b_\\lambda}|^2$$ "
   ]
  },
  {
   "cell_type": "markdown",
   "metadata": {},
   "source": [
    "<div class=warn>\n",
    "<b>Warning:</b> The $\\sin\\delta_0$ factor, appearing in the previous equation, can be interpreted as a compression factor.\n",
    "</div>"
   ]
  },
  {
   "cell_type": "markdown",
   "metadata": {},
   "source": [
    "### 4.4.1.C Sampling the visibility plane with UV tracks"
   ]
  },
  {
   "cell_type": "markdown",
   "metadata": {},
   "source": [
    "##### Simulating a baseline"
   ]
  },
  {
   "cell_type": "markdown",
   "metadata": {},
   "source": [
    "When we have an EW baseline, some equations simplify.\n",
    "\n",
    "First, $XYZ = [0~d~0]^T$, where $d$ is the baseline length measured in wavelengths.\n",
    "\n",
    "Second, we have the following relationships: $u = d\\cos(H)$, $v = d\\sin(H)\\sin(\\delta)$,\n",
    "\n",
    "where $H$ is the hour angle of the field center and $\\delta$ its declination.\n",
    "\n",
    "In this section we will be plotting the $uv$-coverage of an EW-baseline whose field center is at two different declinations."
   ]
  },
  {
   "cell_type": "code",
   "execution_count": null,
   "metadata": {
    "collapsed": true
   },
   "outputs": [],
   "source": [
    "H = np.linspace(-6,6,600)*(np.pi/12) #Hour angle in radians\n",
    "d = 100 #We assume that we have already divided by wavelength\n",
    "\n",
    "delta = 60*(np.pi/180) #Declination in degrees\n",
    "u_60 = d*np.cos(H)\n",
    "v_60 = d*np.sin(H)*np.sin(delta)"
   ]
  },
  {
   "cell_type": "markdown",
   "metadata": {},
   "source": [
    "##### Simulating a sky"
   ]
  },
  {
   "cell_type": "markdown",
   "metadata": {},
   "source": [
    "Here we have a three sources given in RA ($\\alpha$) and DEC ($\\delta$):\n",
    "* Source 1: (5h 32m 0.4s,60$^{\\circ}$-17' 57'') - 1 Jy\n",
    "* Source 2: (5h 36m 12.8s,-61$^{\\circ}$ 12' 6.9'') - 0.5 Jy\n",
    "* Source 3: (5h 40m 45.5s,-61$^{\\circ}$ 56' 34'') - 0.2 Jy\n",
    "\n",
    "We place the field center at $(\\alpha_0,\\delta_0) = $ (5h 30m,60$^{\\circ}$).  "
   ]
  },
  {
   "cell_type": "code",
   "execution_count": null,
   "metadata": {
    "collapsed": false
   },
   "outputs": [],
   "source": [
    "RA_sources = np.array([5+30.0/60,5+32.0/60+0.4/3600,5+36.0/60+12.8/3600,5+40.0/60+45.5/3600])\n",
    "DEC_sources = np.array([60,60+17.0/60+57.0/3600,61+12.0/60+6.9/3600,61+56.0/60+34.0/3600])\n",
    "Flux_sources_labels = np.array([\"\",\"1 Jy\",\"0.5 Jy\",\"0.2 Jy\"])\n",
    "Flux_sources = np.array([1,0.5,0.1]) #in Jy\n",
    "step_size = 200\n",
    "print \"Phase center     Source 1     Source 2     Source3\"\n",
    "print repr(\"RA=\"+str(RA_sources)).ljust(2)\n",
    "print \"DEC=\"+str(DEC_sources)"
   ]
  },
  {
   "cell_type": "markdown",
   "metadata": {},
   "source": [
    "We then convert the ($\\alpha$,$\\delta$) to $l,m$ with\n",
    "* $l = \\cos \\delta \\sin \\Delta \\alpha$\n",
    "* $m = \\sin \\delta\\cos\\delta_0 -\\cos \\delta\\sin\\delta_0\\cos\\Delta \\alpha$\n",
    "* $\\Delta \\alpha = \\alpha - \\alpha_0$"
   ]
  },
  {
   "cell_type": "code",
   "execution_count": null,
   "metadata": {
    "collapsed": false
   },
   "outputs": [],
   "source": [
    "RA_rad = np.array(RA_sources)*(np.pi/12)\n",
    "DEC_rad = np.array(DEC_sources)*(np.pi/180)\n",
    "RA_delta_rad = RA_rad-RA_rad[0]\n",
    "\n",
    "l = np.cos(DEC_rad)*np.sin(RA_delta_rad)\n",
    "m = (np.sin(DEC_rad)*np.cos(DEC_rad[0])-np.cos(DEC_rad)*np.sin(DEC_rad[0])*np.cos(RA_delta_rad))\n",
    "print \"l=\",l*(180/np.pi)\n",
    "print \"m=\",m*(180/np.pi)\n",
    "\n",
    "point_sources = np.zeros((len(RA_sources)-1,3))\n",
    "point_sources[:,0] = Flux_sources\n",
    "point_sources[:,1] = l[1:]\n",
    "point_sources[:,2] = m[1:]"
   ]
  },
  {
   "cell_type": "markdown",
   "metadata": {},
   "source": [
    "The coordinates of the sources and the phase center are now in degrees."
   ]
  },
  {
   "cell_type": "code",
   "execution_count": null,
   "metadata": {
    "collapsed": false
   },
   "outputs": [],
   "source": [
    "%matplotlib inline\n",
    "fig = plt.figure(figsize=(10,10))\n",
    "ax = fig.add_subplot(111)\n",
    "plt.xlim([-4,4])\n",
    "plt.ylim([-4,4])\n",
    "plt.xlabel(\"$l$ [degrees]\")\n",
    "plt.ylabel(\"$m$ [degrees]\")\n",
    "plt.plot(l[0],m[0],\"bx\")\n",
    "plt.hold(\"on\")\n",
    "plt.plot(l[1:]*(180/np.pi),m[1:]*(180/np.pi),\"ro\") \n",
    "counter = 1\n",
    "for xy in zip(l[1:]*(180/np.pi)+0.25, m[1:]*(180/np.pi)+0.25):                                              \n",
    "    ax.annotate(Flux_sources_labels[counter], xy=xy, textcoords='offset points',horizontalalignment='right',\n",
    "                verticalalignment='bottom')  \n",
    "    counter = counter + 1\n",
    "        \n",
    "plt.grid()"
   ]
  },
  {
   "cell_type": "markdown",
   "metadata": {},
   "source": [
    "**Figure 4.4.6**: Distribution of the simulated sky in the $l$,$m$ plane."
   ]
  },
  {
   "cell_type": "markdown",
   "metadata": {},
   "source": [
    "##### Simulating an observation"
   ]
  },
  {
   "cell_type": "markdown",
   "metadata": {},
   "source": [
    "We will now be creating a completely filled in $uv$-plane and sample it on the EW-baseline track we created in the first section. We will be ignoring the $w$-term for the sake of simplicity."
   ]
  },
  {
   "cell_type": "code",
   "execution_count": null,
   "metadata": {
    "collapsed": false
   },
   "outputs": [],
   "source": [
    "u = np.linspace(-1*(np.amax(np.abs(u_60)))-10, np.amax(np.abs(u_60))+10, num=step_size, endpoint=True)\n",
    "v = np.linspace(-1*(np.amax(abs(v_60)))-10, np.amax(abs(v_60))+10, num=step_size, endpoint=True)   \n",
    "uu, vv = np.meshgrid(u, v)\n",
    "zz = np.zeros(uu.shape).astype(complex)"
   ]
  },
  {
   "cell_type": "markdown",
   "metadata": {},
   "source": [
    "We create the dimensions of our visibility plane."
   ]
  },
  {
   "cell_type": "code",
   "execution_count": null,
   "metadata": {
    "collapsed": true
   },
   "outputs": [],
   "source": [
    "s = point_sources.shape\n",
    "for counter in xrange(1, s[0]+1):\n",
    "    A_i = point_sources[counter-1,0]\n",
    "    l_i = point_sources[counter-1,1]\n",
    "    m_i = point_sources[counter-1,2]\n",
    "    zz += A_i*np.exp(-2*np.pi*1j*(uu*l_i+vv*m_i))\n",
    "zz = zz[:,::-1]"
   ]
  },
  {
   "cell_type": "markdown",
   "metadata": {},
   "source": [
    "We create our completely filled in visibitly plane. If we had a perfect interferometer we could sample the entire $uv$-plane, but due to the fact that we only have a finite amount of antennas this is not possible. Recall that our sky brightness $I(l,m)$ is related to to our visibilites $V(u,v)$ via the Fourier transform. For a bunch of point sources we can therefore write:\n",
    "\n",
    "$$V(u,v)=\\mathcal{F}\\{I(l,m)\\} = \\mathcal{F}\\{\\sum_k A_k \\delta(l-l_k,m-m_k)\\} = \\sum_k A_k e^{-2\\pi i (ul_i+vm_i)}$$\n",
    "\n",
    "Let's compute the total visibilities for all sources."
   ]
  },
  {
   "cell_type": "code",
   "execution_count": null,
   "metadata": {
    "collapsed": true
   },
   "outputs": [],
   "source": [
    "u_track = u_60\n",
    "v_track = v_60\n",
    "z = np.zeros(u_track.shape).astype(complex)       \n",
    "\n",
    "s = point_sources.shape\n",
    "for counter in xrange(1, s[0]+1):\n",
    "    A_i = point_sources[counter-1,0]\n",
    "    l_i = point_sources[counter-1,1]\n",
    "    m_i = point_sources[counter-1,2]\n",
    "    z += A_i*np.exp(-1*2*np.pi*1j*(u_track*l_i+v_track*m_i))"
   ]
  },
  {
   "cell_type": "markdown",
   "metadata": {},
   "source": [
    "Below we sample our visibility plane on the $uv$-track derived in the first section, i.e. $V(u_t,v_t)$."
   ]
  },
  {
   "cell_type": "code",
   "execution_count": null,
   "metadata": {
    "collapsed": false
   },
   "outputs": [],
   "source": [
    "plt.subplot(121)\n",
    "plt.imshow(zz.real,extent=[-1*(np.amax(np.abs(u_60)))-10, np.amax(np.abs(u_60))+10,-1*(np.amax(abs(v_60)))-10, \\\n",
    "                           np.amax(abs(v_60))+10])\n",
    "plt.plot(u_60,v_60,\"k\")\n",
    "plt.xlim([-1*(np.amax(np.abs(u_60)))-10, np.amax(np.abs(u_60))+10])\n",
    "plt.ylim(-1*(np.amax(abs(v_60)))-10, np.amax(abs(v_60))+10)\n",
    "plt.xlabel(\"u\")\n",
    "plt.ylabel(\"v\")\n",
    "plt.title(\"Real part of visibilities\")\n",
    "\n",
    "plt.subplot(122)\n",
    "plt.imshow(zz.imag,extent=[-1*(np.amax(np.abs(u_60)))-10, np.amax(np.abs(u_60))+10,-1*(np.amax(abs(v_60)))-10, \\\n",
    "                           np.amax(abs(v_60))+10])\n",
    "plt.plot(u_60,v_60,\"k\")\n",
    "plt.xlim([-1*(np.amax(np.abs(u_60)))-10, np.amax(np.abs(u_60))+10])\n",
    "plt.ylim(-1*(np.amax(abs(v_60)))-10, np.amax(abs(v_60))+10)\n",
    "plt.xlabel(\"u\")\n",
    "plt.ylabel(\"v\")\n",
    "plt.title(\"Imaginary part of visibilities\")"
   ]
  },
  {
   "cell_type": "markdown",
   "metadata": {},
   "source": [
    "**Figure 4.4.7**: Real and imaginary part of the visibility function. The black curve is the portion of the $uv$ track crossing the visibility."
   ]
  },
  {
   "cell_type": "markdown",
   "metadata": {},
   "source": [
    "We now plot the sampled visibilites as a function of time-slots, i.e $V(u_t(t_s),v_t(t_s))$."
   ]
  },
  {
   "cell_type": "code",
   "execution_count": null,
   "metadata": {
    "collapsed": false
   },
   "outputs": [],
   "source": [
    "plt.subplot(121)\n",
    "plt.plot(z.real)\n",
    "plt.xlabel(\"Timeslots\")\n",
    "plt.ylabel(\"Jy\")\n",
    "plt.title(\"Real: sampled visibilities\")\n",
    "\n",
    "plt.subplot(122)\n",
    "plt.plot(z.imag)\n",
    "plt.xlabel(\"Timeslots\")\n",
    "plt.ylabel(\"Jy\")\n",
    "plt.title(\"Imag: sampled visibilities\")"
   ]
  },
  {
   "cell_type": "markdown",
   "metadata": {},
   "source": [
    "**Figure 4.4.8**: Real and imaginary part of the sampled visibility (by the black curve in Fig. 4.4.7) as a function of time."
   ]
  },
  {
   "cell_type": "code",
   "execution_count": null,
   "metadata": {
    "collapsed": false
   },
   "outputs": [],
   "source": [
    "plt.subplot(121)\n",
    "plt.imshow(abs(zz),\n",
    "    extent=[-1*(np.amax(np.abs(u_60)))-10,\n",
    "            np.amax(np.abs(u_60))+10,\n",
    "            -1*(np.amax(abs(v_60)))-10,\n",
    "            np.amax(abs(v_60))+10])\n",
    "plt.plot(u_60,v_60,\"k\")\n",
    "plt.xlim([-1*(np.amax(np.abs(u_60)))-10, np.amax(np.abs(u_60))+10])\n",
    "plt.ylim(-1*(np.amax(abs(v_60)))-10, np.amax(abs(v_60))+10)\n",
    "plt.xlabel(\"u\")\n",
    "plt.ylabel(\"v\")\n",
    "plt.title(\"Amplitude of visibilities\")\n",
    "\n",
    "plt.subplot(122)\n",
    "plt.imshow(np.angle(zz),\n",
    "    extent=[-1*(np.amax(np.abs(u_60)))-10,\n",
    "            np.amax(np.abs(u_60))+10,\n",
    "            -1*(np.amax(abs(v_60)))-10,\n",
    "            np.amax(abs(v_60))+10])\n",
    "plt.plot(u_60,v_60,\"k\")\n",
    "plt.xlim([-1*(np.amax(np.abs(u_60)))-10, np.amax(np.abs(u_60))+10])\n",
    "plt.ylim(-1*(np.amax(abs(v_60)))-10, np.amax(abs(v_60))+10)\n",
    "plt.xlabel(\"u\")\n",
    "plt.ylabel(\"v\")\n",
    "plt.title(\"Phase of visibilities\")"
   ]
  },
  {
   "cell_type": "markdown",
   "metadata": {},
   "source": [
    "**Figure 4.4.9**: Amplitude and Phase of the visibility function. The black curve is the portion of the $uv$ track crossing the visibility."
   ]
  },
  {
   "cell_type": "code",
   "execution_count": null,
   "metadata": {
    "collapsed": false
   },
   "outputs": [],
   "source": [
    "plt.subplot(121)\n",
    "plt.plot(abs(z))\n",
    "plt.xlabel(\"Timeslots\")\n",
    "plt.ylabel(\"Jy\")\n",
    "plt.title(\"Abs: sampled visibilities\")\n",
    "\n",
    "plt.subplot(122)\n",
    "plt.plot(np.angle(z))\n",
    "plt.xlabel(\"Timeslots\")\n",
    "plt.ylabel(\"Jy\")\n",
    "plt.title(\"Phase: sampled visibilities\")"
   ]
  },
  {
   "cell_type": "markdown",
   "metadata": {},
   "source": [
    "**Figure 4.4.10**: Amplitude and Phase of the sampled visibility (by the black curve in Fig. 4.4.7) as a function of time."
   ]
  },
  {
   "cell_type": "markdown",
   "metadata": {
    "collapsed": true
   },
   "source": [
    "##### \"Real-life\" visibility"
   ]
  },
  {
   "cell_type": "markdown",
   "metadata": {
    "collapsed": true
   },
   "source": [
    "In the following figure, we present a collection of visibility measurements taken with different baselines, as a function of time. These measurements come from a real LOFAR dataset observing Cygnus A (Fig. [4.4.11 &#10549;](#fig:4411)), a powerful radiosource.\n",
    "Each color corresponds to a different baseline measurement, and consequently, a different sampling of the same visibility function along different uv-track."
   ]
  },
  {
   "cell_type": "markdown",
   "metadata": {
    "collapsed": true
   },
   "source": [
    "<a id=\"fig:4411\"></a>\n",
    "<img src='figures/cygnusA.jpg' width=30%>"
   ]
  },
  {
   "cell_type": "markdown",
   "metadata": {},
   "source": [
    "**Figure 4.4.11**: The source Cygnus A at 21 cm."
   ]
  },
  {
   "cell_type": "markdown",
   "metadata": {
    "collapsed": true
   },
   "source": [
    "<a id=\"fig:4412\"></a>\n",
    "<img src='figures/baselines.jpg' width=70%>"
   ]
  },
  {
   "cell_type": "markdown",
   "metadata": {},
   "source": [
    "**Figure 4.4.12**: Visibility amplitude as a function of time."
   ]
  },
  {
   "cell_type": "markdown",
   "metadata": {},
   "source": [
    "Fig. [4.4.12 &#10549;](#fig:4412) displays the collection of all sampled visibility amplitudes as a function of time from the observation of Cygnus A. The large number of antennas make the interpretation of the plots difficult. Even the inspection of single $uv$ track visibility amplitude is hard to comprehend due to the intrinsic complexity of the source. Let's plot the same information as a function of the $uv$-distance $r_{uv}$."
   ]
  },
  {
   "cell_type": "markdown",
   "metadata": {
    "collapsed": true
   },
   "source": [
    "<a id=\"fig:4413\"></a>\n",
    "<img src='figures/baseline-uvdist.jpg' width=70%>"
   ]
  },
  {
   "cell_type": "markdown",
   "metadata": {},
   "source": [
    "**Figure 4.4.13**: Visibility amplitude as a function of $r_{uv}$."
   ]
  },
  {
   "cell_type": "markdown",
   "metadata": {},
   "source": [
    "Fig. [4.4.13 &#10549;](#fig:4413) display the same information as Fig. [4.4.12 &#10549;](#fig:4412) but as a function of $r_{uv}$. Under this form, it should be quite clear that, as in [$\\S$ 4.3 &#10142;](4_3_The_Visibility_Function.ipynb), we have a stacking of the radial plots of the visibility function. The interpretation of those radial plots inform us about the shape of the source. In particular, when the amplitude of the visibility goes to zero, one characteristic size of the source has been resolved."
   ]
  },
  {
   "cell_type": "markdown",
   "metadata": {},
   "source": [
    "From these plots, it is clear that the larger number of different baselines we have, the more complete is the sampling of the visibility function.\n",
    "How to enrich the $uv$ coverage is the topic of the next section."
   ]
  },
  {
   "cell_type": "markdown",
   "metadata": {
    "collapsed": true
   },
   "source": [
    "<p class=conclusion>\n",
    "  <font size=4><b>Important things to remember</b></font>\n",
    "  <br>\n",
    "  <br>\n",
    "\n",
    "&bull; One baseline samples the visibility function along one $uv$ track.<br>\n",
    "&bull; The $uv$ tracks are ellipses which parameters depends on the latitude, declination of observation.<br>\n",
    "&bull; The polar (resp. equatorial) interferometer gives circular (linear) $uv$ tracks.<br>\n",
    "&bull; The accumulation of samples accross time enhance the sampling of the visibility function, and therefore improves the knowledge of the source.<br>\n",
    "\n",
    "</p>"
   ]
  },
  {
   "cell_type": "markdown",
   "metadata": {
    "collapsed": true
   },
   "source": [
    "***\n",
    "\n",
    "* Next: [4.4.2 UV Coverage: Improving Your Coverage](4_4_2_UV_Coverage_Improving_Your_Coverage.ipynb)"
   ]
  },
  {
   "cell_type": "markdown",
   "metadata": {},
   "source": [
    "<div class=warn><b>Future Additions:</b></div>"
   ]
  }
 ],
 "metadata": {
  "kernelspec": {
   "display_name": "Python 2",
   "language": "python",
   "name": "python2"
  },
  "language_info": {
   "codemirror_mode": {
    "name": "ipython",
    "version": 2
   },
   "file_extension": ".py",
   "mimetype": "text/x-python",
   "name": "python",
   "nbconvert_exporter": "python",
   "pygments_lexer": "ipython2",
   "version": "2.7.6"
  }
 },
 "nbformat": 4,
 "nbformat_minor": 0
}
